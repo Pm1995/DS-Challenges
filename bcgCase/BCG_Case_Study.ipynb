{
 "cells": [
  {
   "cell_type": "code",
   "execution_count": 6,
   "metadata": {},
   "outputs": [],
   "source": [
    "import itertools\n",
    "from collections import Counter\n",
    "import datetime\n",
    "import json\n",
    "import numpy as np\n",
    "import pandas as pd\n",
    "import matplotlib.pyplot as plt\n",
    "plt.style.use('ggplot')\n",
    "from sklearn.preprocessing import normalize\n",
    "from sklearn.decomposition import PCA\n",
    "from sklearn.neighbors import NearestNeighbors\n",
    "import datetime\n",
    "import glob\n",
    "import os\n",
    "import matplotlib as mpl\n",
    "import matplotlib.pyplot as plt\n",
    "import seaborn as sns"
   ]
  },
  {
   "cell_type": "code",
   "execution_count": 7,
   "metadata": {},
   "outputs": [],
   "source": [
    "df = pd.read_csv(\"Monthly Data/1.csv\")\n",
    "df_airp_dir = pd.read_csv(\"Lookup Tables/L_AIRPORT_ID.csv\")\n",
    "df_carrier_dir = pd.read_csv(\"Lookup Tables/L_CARRIER_HISTORY.csv\")"
   ]
  },
  {
   "cell_type": "code",
   "execution_count": 9,
   "metadata": {},
   "outputs": [],
   "source": [
    "path =r'C:\\Users\\Pranay\\Documents\\GitHub\\DS-Challenges\\bcgCase\\Monthly Data' # use your path\n",
    "allFiles = glob.glob(path + \"/*.csv\")\n",
    "frame = pd.DataFrame()\n",
    "list_ = []\n",
    "for i,file_ in enumerate(allFiles):\n",
    "    df = pd.read_csv(file_,index_col=None, header=0)\n",
    "    list_.append(df)\n",
    "df = pd.concat(list_)"
   ]
  },
  {
   "cell_type": "markdown",
   "metadata": {},
   "source": [
    "### Q1. What is the 15th most flown route? "
   ]
  },
  {
   "cell_type": "code",
   "execution_count": 10,
   "metadata": {},
   "outputs": [
    {
     "data": {
      "text/html": [
       "<div>\n",
       "<style scoped>\n",
       "    .dataframe tbody tr th:only-of-type {\n",
       "        vertical-align: middle;\n",
       "    }\n",
       "\n",
       "    .dataframe tbody tr th {\n",
       "        vertical-align: top;\n",
       "    }\n",
       "\n",
       "    .dataframe thead th {\n",
       "        text-align: right;\n",
       "    }\n",
       "</style>\n",
       "<table border=\"1\" class=\"dataframe\">\n",
       "  <thead>\n",
       "    <tr style=\"text-align: right;\">\n",
       "      <th></th>\n",
       "      <th>FL_DATE</th>\n",
       "      <th>UNIQUE_CARRIER</th>\n",
       "      <th>AIRLINE_ID</th>\n",
       "      <th>CARRIER</th>\n",
       "      <th>TAIL_NUM</th>\n",
       "      <th>FL_NUM</th>\n",
       "      <th>ORIGIN_AIRPORT_ID</th>\n",
       "      <th>ORIGIN_AIRPORT_SEQ_ID</th>\n",
       "      <th>ORIGIN_CITY_MARKET_ID</th>\n",
       "      <th>ORIGIN</th>\n",
       "      <th>...</th>\n",
       "      <th>ARR_TIME_BLK</th>\n",
       "      <th>CANCELLED</th>\n",
       "      <th>DIVERTED</th>\n",
       "      <th>CRS_ELAPSED_TIME</th>\n",
       "      <th>ACTUAL_ELAPSED_TIME</th>\n",
       "      <th>AIR_TIME</th>\n",
       "      <th>FLIGHTS</th>\n",
       "      <th>DISTANCE</th>\n",
       "      <th>DISTANCE_GROUP</th>\n",
       "      <th>Unnamed: 50</th>\n",
       "    </tr>\n",
       "  </thead>\n",
       "  <tbody>\n",
       "    <tr>\n",
       "      <th>0</th>\n",
       "      <td>2014-01-01</td>\n",
       "      <td>AA</td>\n",
       "      <td>19805</td>\n",
       "      <td>AA</td>\n",
       "      <td>N002AA</td>\n",
       "      <td>2377</td>\n",
       "      <td>12278</td>\n",
       "      <td>1227802</td>\n",
       "      <td>30928</td>\n",
       "      <td>ICT</td>\n",
       "      <td>...</td>\n",
       "      <td>1300-1359</td>\n",
       "      <td>0.0</td>\n",
       "      <td>0.0</td>\n",
       "      <td>85.0</td>\n",
       "      <td>78.0</td>\n",
       "      <td>57.0</td>\n",
       "      <td>1.0</td>\n",
       "      <td>328.0</td>\n",
       "      <td>2</td>\n",
       "      <td>NaN</td>\n",
       "    </tr>\n",
       "    <tr>\n",
       "      <th>1</th>\n",
       "      <td>2014-01-01</td>\n",
       "      <td>AA</td>\n",
       "      <td>19805</td>\n",
       "      <td>AA</td>\n",
       "      <td>N3FXAA</td>\n",
       "      <td>2378</td>\n",
       "      <td>13303</td>\n",
       "      <td>1330303</td>\n",
       "      <td>32467</td>\n",
       "      <td>MIA</td>\n",
       "      <td>...</td>\n",
       "      <td>2300-2359</td>\n",
       "      <td>0.0</td>\n",
       "      <td>0.0</td>\n",
       "      <td>60.0</td>\n",
       "      <td>55.0</td>\n",
       "      <td>37.0</td>\n",
       "      <td>1.0</td>\n",
       "      <td>204.0</td>\n",
       "      <td>1</td>\n",
       "      <td>NaN</td>\n",
       "    </tr>\n",
       "    <tr>\n",
       "      <th>2</th>\n",
       "      <td>2014-01-01</td>\n",
       "      <td>EV</td>\n",
       "      <td>20366</td>\n",
       "      <td>EV</td>\n",
       "      <td>N906EV</td>\n",
       "      <td>2500</td>\n",
       "      <td>11298</td>\n",
       "      <td>1129803</td>\n",
       "      <td>30194</td>\n",
       "      <td>DFW</td>\n",
       "      <td>...</td>\n",
       "      <td>2200-2259</td>\n",
       "      <td>1.0</td>\n",
       "      <td>0.0</td>\n",
       "      <td>60.0</td>\n",
       "      <td>NaN</td>\n",
       "      <td>NaN</td>\n",
       "      <td>1.0</td>\n",
       "      <td>247.0</td>\n",
       "      <td>1</td>\n",
       "      <td>NaN</td>\n",
       "    </tr>\n",
       "    <tr>\n",
       "      <th>3</th>\n",
       "      <td>2014-01-01</td>\n",
       "      <td>EV</td>\n",
       "      <td>20366</td>\n",
       "      <td>EV</td>\n",
       "      <td>N903EV</td>\n",
       "      <td>2502</td>\n",
       "      <td>11146</td>\n",
       "      <td>1114603</td>\n",
       "      <td>31146</td>\n",
       "      <td>CRW</td>\n",
       "      <td>...</td>\n",
       "      <td>1900-1959</td>\n",
       "      <td>0.0</td>\n",
       "      <td>0.0</td>\n",
       "      <td>185.0</td>\n",
       "      <td>180.0</td>\n",
       "      <td>150.0</td>\n",
       "      <td>1.0</td>\n",
       "      <td>946.0</td>\n",
       "      <td>4</td>\n",
       "      <td>NaN</td>\n",
       "    </tr>\n",
       "    <tr>\n",
       "      <th>4</th>\n",
       "      <td>2014-01-01</td>\n",
       "      <td>EV</td>\n",
       "      <td>20366</td>\n",
       "      <td>EV</td>\n",
       "      <td>N903EV</td>\n",
       "      <td>2502</td>\n",
       "      <td>11298</td>\n",
       "      <td>1129803</td>\n",
       "      <td>30194</td>\n",
       "      <td>DFW</td>\n",
       "      <td>...</td>\n",
       "      <td>1600-1659</td>\n",
       "      <td>0.0</td>\n",
       "      <td>0.0</td>\n",
       "      <td>125.0</td>\n",
       "      <td>115.0</td>\n",
       "      <td>101.0</td>\n",
       "      <td>1.0</td>\n",
       "      <td>946.0</td>\n",
       "      <td>4</td>\n",
       "      <td>NaN</td>\n",
       "    </tr>\n",
       "  </tbody>\n",
       "</table>\n",
       "<p>5 rows × 51 columns</p>\n",
       "</div>"
      ],
      "text/plain": [
       "      FL_DATE UNIQUE_CARRIER  AIRLINE_ID CARRIER TAIL_NUM  FL_NUM  \\\n",
       "0  2014-01-01             AA       19805      AA   N002AA    2377   \n",
       "1  2014-01-01             AA       19805      AA   N3FXAA    2378   \n",
       "2  2014-01-01             EV       20366      EV   N906EV    2500   \n",
       "3  2014-01-01             EV       20366      EV   N903EV    2502   \n",
       "4  2014-01-01             EV       20366      EV   N903EV    2502   \n",
       "\n",
       "   ORIGIN_AIRPORT_ID  ORIGIN_AIRPORT_SEQ_ID  ORIGIN_CITY_MARKET_ID ORIGIN  \\\n",
       "0              12278                1227802                  30928    ICT   \n",
       "1              13303                1330303                  32467    MIA   \n",
       "2              11298                1129803                  30194    DFW   \n",
       "3              11146                1114603                  31146    CRW   \n",
       "4              11298                1129803                  30194    DFW   \n",
       "\n",
       "      ...     ARR_TIME_BLK CANCELLED  DIVERTED CRS_ELAPSED_TIME  \\\n",
       "0     ...        1300-1359       0.0       0.0             85.0   \n",
       "1     ...        2300-2359       0.0       0.0             60.0   \n",
       "2     ...        2200-2259       1.0       0.0             60.0   \n",
       "3     ...        1900-1959       0.0       0.0            185.0   \n",
       "4     ...        1600-1659       0.0       0.0            125.0   \n",
       "\n",
       "   ACTUAL_ELAPSED_TIME  AIR_TIME  FLIGHTS  DISTANCE DISTANCE_GROUP Unnamed: 50  \n",
       "0                 78.0      57.0      1.0     328.0              2         NaN  \n",
       "1                 55.0      37.0      1.0     204.0              1         NaN  \n",
       "2                  NaN       NaN      1.0     247.0              1         NaN  \n",
       "3                180.0     150.0      1.0     946.0              4         NaN  \n",
       "4                115.0     101.0      1.0     946.0              4         NaN  \n",
       "\n",
       "[5 rows x 51 columns]"
      ]
     },
     "execution_count": 10,
     "metadata": {},
     "output_type": "execute_result"
    }
   ],
   "source": [
    "df.head()"
   ]
  },
  {
   "cell_type": "code",
   "execution_count": 11,
   "metadata": {},
   "outputs": [
    {
     "name": "stdout",
     "output_type": "stream",
     "text": [
      "<class 'pandas.core.frame.DataFrame'>\n",
      "Int64Index: 5819811 entries, 0 to 469488\n",
      "Data columns (total 51 columns):\n",
      "FL_DATE                  object\n",
      "UNIQUE_CARRIER           object\n",
      "AIRLINE_ID               int64\n",
      "CARRIER                  object\n",
      "TAIL_NUM                 object\n",
      "FL_NUM                   int64\n",
      "ORIGIN_AIRPORT_ID        int64\n",
      "ORIGIN_AIRPORT_SEQ_ID    int64\n",
      "ORIGIN_CITY_MARKET_ID    int64\n",
      "ORIGIN                   object\n",
      "ORIGIN_CITY_NAME         object\n",
      "ORIGIN_STATE_ABR         object\n",
      "ORIGIN_STATE_FIPS        int64\n",
      "ORIGIN_STATE_NM          object\n",
      "ORIGIN_WAC               int64\n",
      "DEST_AIRPORT_ID          int64\n",
      "DEST_AIRPORT_SEQ_ID      int64\n",
      "DEST_CITY_MARKET_ID      int64\n",
      "DEST                     object\n",
      "DEST_CITY_NAME           object\n",
      "DEST_STATE_ABR           object\n",
      "DEST_STATE_FIPS          int64\n",
      "DEST_STATE_NM            object\n",
      "DEST_WAC                 int64\n",
      "CRS_DEP_TIME             int64\n",
      "DEP_TIME                 float64\n",
      "DEP_DELAY                float64\n",
      "DEP_DELAY_NEW            float64\n",
      "DEP_DEL15                float64\n",
      "DEP_DELAY_GROUP          float64\n",
      "DEP_TIME_BLK             object\n",
      "TAXI_OUT                 float64\n",
      "WHEELS_OFF               float64\n",
      "WHEELS_ON                float64\n",
      "TAXI_IN                  float64\n",
      "CRS_ARR_TIME             int64\n",
      "ARR_TIME                 float64\n",
      "ARR_DELAY                float64\n",
      "ARR_DELAY_NEW            float64\n",
      "ARR_DEL15                float64\n",
      "ARR_DELAY_GROUP          float64\n",
      "ARR_TIME_BLK             object\n",
      "CANCELLED                float64\n",
      "DIVERTED                 float64\n",
      "CRS_ELAPSED_TIME         float64\n",
      "ACTUAL_ELAPSED_TIME      float64\n",
      "AIR_TIME                 float64\n",
      "FLIGHTS                  float64\n",
      "DISTANCE                 float64\n",
      "DISTANCE_GROUP           int64\n",
      "Unnamed: 50              float64\n",
      "dtypes: float64(22), int64(15), object(14)\n",
      "memory usage: 2.3+ GB\n"
     ]
    }
   ],
   "source": [
    "df.info()"
   ]
  },
  {
   "cell_type": "code",
   "execution_count": 12,
   "metadata": {},
   "outputs": [
    {
     "name": "stderr",
     "output_type": "stream",
     "text": [
      "C:\\Users\\Pranay\\Anaconda3\\lib\\site-packages\\ipykernel_launcher.py:5: SettingWithCopyWarning: \n",
      "A value is trying to be set on a copy of a slice from a DataFrame.\n",
      "Try using .loc[row_indexer,col_indexer] = value instead\n",
      "\n",
      "See the caveats in the documentation: http://pandas.pydata.org/pandas-docs/stable/indexing.html#indexing-view-versus-copy\n",
      "  \"\"\"\n"
     ]
    }
   ],
   "source": [
    "#A sequence be defined as the a combination of destination & Origin airport ID's.\n",
    "##ORIGIN_AIRPORT_ID\n",
    "##DEST_AIRPORT_ID\n",
    "df_route = df[[\"ORIGIN_AIRPORT_ID\", \"DEST_AIRPORT_ID\"]]\n",
    "df_route[\"period\"] = df_route[\"ORIGIN_AIRPORT_ID\"].map(str) + df_route[\"DEST_AIRPORT_ID\"].map(str)"
   ]
  },
  {
   "cell_type": "code",
   "execution_count": 14,
   "metadata": {},
   "outputs": [],
   "source": [
    "df_route_ = df_route.groupby(['period']).size().reset_index(name='counts').sort_values(ascending= False,by = 'counts')"
   ]
  },
  {
   "cell_type": "code",
   "execution_count": 18,
   "metadata": {},
   "outputs": [],
   "source": [
    "df_route_['Origin'] = df_route_['period'].apply(lambda x: (df_airp_dir[df_airp_dir['Code'] == int(x[:5])].values.tolist()[0][1]).split(':')[0])\n",
    "df_route_['Destination'] = df_route_['period'].apply(lambda x: (df_airp_dir[df_airp_dir['Code'] == int(x[5:])].values.tolist()[0][1]).split(':')[0])\n",
    "df_route_['Route_Name']  = df_route_['Origin'] + ' to ' + df_route_['Destination']"
   ]
  },
  {
   "cell_type": "code",
   "execution_count": 271,
   "metadata": {},
   "outputs": [
    {
     "data": {
      "text/plain": [
       "(array([ 0,  1,  2,  3,  4,  5,  6,  7,  8,  9, 10, 11, 12, 13, 14, 15, 16,\n",
       "        17, 18, 19]), <a list of 20 Text xticklabel objects>)"
      ]
     },
     "execution_count": 271,
     "metadata": {},
     "output_type": "execute_result"
    },
    {
     "data": {
      "image/png": "[encoded data removed]",
      "text/plain": [
       "<Figure size 842.4x595.44 with 1 Axes>"
      ]
     },
     "metadata": {},
     "output_type": "display_data"
    }
   ],
   "source": [
    "#g = sns.factorplot(\"year\", data=planets, aspect=1.5, kind=\"count\", color=\"b\")\n",
    "#g.set_xticklabels(rotation=30)\n",
    "#g  = sns.barplot(x=\"Route_Name\", y=\"counts\", data= df_route_.iloc[0:20])\n",
    "#plt.setp(g.get_xticklabels(), rotation=45)\n",
    "fig, ax = plt.subplots()\n",
    "\n",
    "fig.set_size_inches(11.7, 8.27)\n",
    "sns.barplot(x=\"Route_Name\", y=\"counts\", data= df_route_.iloc[0:20])\n",
    "sns.despine(offset = 0, trim = True)\n",
    "plt.xticks(rotation=90) \n"
   ]
  },
  {
   "cell_type": "code",
   "execution_count": 266,
   "metadata": {},
   "outputs": [
    {
     "data": {
      "text/html": [
       "<div>\n",
       "<style>\n",
       "    .dataframe thead tr:only-child th {\n",
       "        text-align: right;\n",
       "    }\n",
       "\n",
       "    .dataframe thead th {\n",
       "        text-align: left;\n",
       "    }\n",
       "\n",
       "    .dataframe tbody tr th {\n",
       "        vertical-align: top;\n",
       "    }\n",
       "</style>\n",
       "<table border=\"1\" class=\"dataframe\">\n",
       "  <thead>\n",
       "    <tr style=\"text-align: right;\">\n",
       "      <th></th>\n",
       "      <th>period</th>\n",
       "      <th>counts</th>\n",
       "      <th>Origin</th>\n",
       "      <th>Destination</th>\n",
       "      <th>Route_Name</th>\n",
       "    </tr>\n",
       "  </thead>\n",
       "  <tbody>\n",
       "    <tr>\n",
       "      <th>4221</th>\n",
       "      <td>1477112892</td>\n",
       "      <td>13298</td>\n",
       "      <td>San Francisco, CA</td>\n",
       "      <td>Los Angeles, CA</td>\n",
       "      <td>San Francisco, CA to Los Angeles, CA</td>\n",
       "    </tr>\n",
       "    <tr>\n",
       "      <th>2525</th>\n",
       "      <td>1289214771</td>\n",
       "      <td>13284</td>\n",
       "      <td>Los Angeles, CA</td>\n",
       "      <td>San Francisco, CA</td>\n",
       "      <td>Los Angeles, CA to San Francisco, CA</td>\n",
       "    </tr>\n",
       "    <tr>\n",
       "      <th>2305</th>\n",
       "      <td>1247812892</td>\n",
       "      <td>12554</td>\n",
       "      <td>New York, NY</td>\n",
       "      <td>Los Angeles, CA</td>\n",
       "      <td>New York, NY to Los Angeles, CA</td>\n",
       "    </tr>\n",
       "    <tr>\n",
       "      <th>2490</th>\n",
       "      <td>1289212478</td>\n",
       "      <td>12551</td>\n",
       "      <td>Los Angeles, CA</td>\n",
       "      <td>New York, NY</td>\n",
       "      <td>Los Angeles, CA to New York, NY</td>\n",
       "    </tr>\n",
       "    <tr>\n",
       "      <th>2409</th>\n",
       "      <td>1288912892</td>\n",
       "      <td>11754</td>\n",
       "      <td>Las Vegas, NV</td>\n",
       "      <td>Los Angeles, CA</td>\n",
       "      <td>Las Vegas, NV to Los Angeles, CA</td>\n",
       "    </tr>\n",
       "  </tbody>\n",
       "</table>\n",
       "</div>"
      ],
      "text/plain": [
       "          period  counts             Origin        Destination  \\\n",
       "4221  1477112892   13298  San Francisco, CA    Los Angeles, CA   \n",
       "2525  1289214771   13284    Los Angeles, CA  San Francisco, CA   \n",
       "2305  1247812892   12554       New York, NY    Los Angeles, CA   \n",
       "2490  1289212478   12551    Los Angeles, CA       New York, NY   \n",
       "2409  1288912892   11754      Las Vegas, NV    Los Angeles, CA   \n",
       "\n",
       "                                Route_Name  \n",
       "4221  San Francisco, CA to Los Angeles, CA  \n",
       "2525  Los Angeles, CA to San Francisco, CA  \n",
       "2305       New York, NY to Los Angeles, CA  \n",
       "2490       Los Angeles, CA to New York, NY  \n",
       "2409      Las Vegas, NV to Los Angeles, CA  "
      ]
     },
     "execution_count": 266,
     "metadata": {},
     "output_type": "execute_result"
    }
   ],
   "source": [
    "df_route_.head()"
   ]
  },
  {
   "cell_type": "code",
   "execution_count": 20,
   "metadata": {},
   "outputs": [],
   "source": [
    "def Get_Route(k,df_route_):\n",
    "    route =  df_route_.iloc[[k-1]].index.values\n",
    "    times = df_route_.iloc[[k-1]].values.tolist()[0][0]\n",
    "    print(times)\n",
    "    origin = df_airp_dir[df_airp_dir['Code'] == int(route[0][:5])].values.tolist()[0][1]\n",
    "    destination = df_airp_dir[df_airp_dir['Code'] == int(route[0][5:])].values.tolist()[0][1]\n",
    "\n",
    "    #destination = route[0][5:]\n",
    "    #print(df_airp_dir[df_airp_dir['Code'] == int(origin)].values.tolist()[0][1])\n",
    "    print(\"The {}th most popular route is from {} to {}\".format(k,origin, destination))"
   ]
  },
  {
   "cell_type": "code",
   "execution_count": 21,
   "metadata": {},
   "outputs": [],
   "source": [
    "#Get_Route(15,df_route_)"
   ]
  },
  {
   "cell_type": "markdown",
   "metadata": {},
   "source": [
    "### Q2. What carrier has flown the 3rd most number of flights? How many? "
   ]
  },
  {
   "cell_type": "code",
   "execution_count": 22,
   "metadata": {},
   "outputs": [],
   "source": [
    "## Removing count of cancelled flights\n",
    "df_ = df[df['CANCELLED'] == 0]\n",
    "df_carrier = df_.groupby(['UNIQUE_CARRIER']).size().reset_index(name='counts').sort_values(ascending= False,by = 'counts')\n",
    "#df_carrier.columns = df_carrier.columns.droplevel(0)\n",
    "#df_carrier_ = df_carrier.iloc[:,1].to_frame().sort_values(ascending= False,by = 'count')\n",
    "#EV"
   ]
  },
  {
   "cell_type": "code",
   "execution_count": 274,
   "metadata": {},
   "outputs": [
    {
     "data": {
      "text/html": [
       "<div>\n",
       "<style>\n",
       "    .dataframe thead tr:only-child th {\n",
       "        text-align: right;\n",
       "    }\n",
       "\n",
       "    .dataframe thead th {\n",
       "        text-align: left;\n",
       "    }\n",
       "\n",
       "    .dataframe tbody tr th {\n",
       "        vertical-align: top;\n",
       "    }\n",
       "</style>\n",
       "<table border=\"1\" class=\"dataframe\">\n",
       "  <thead>\n",
       "    <tr style=\"text-align: right;\">\n",
       "      <th></th>\n",
       "      <th>Code</th>\n",
       "      <th>Description</th>\n",
       "    </tr>\n",
       "  </thead>\n",
       "  <tbody>\n",
       "    <tr>\n",
       "      <th>0</th>\n",
       "      <td>02Q</td>\n",
       "      <td>Titan Airways (2006 - )</td>\n",
       "    </tr>\n",
       "    <tr>\n",
       "      <th>1</th>\n",
       "      <td>04Q</td>\n",
       "      <td>Tradewind Aviation (2006 - )</td>\n",
       "    </tr>\n",
       "    <tr>\n",
       "      <th>2</th>\n",
       "      <td>05Q</td>\n",
       "      <td>Comlux Aviation, AG (2006 - 2012)</td>\n",
       "    </tr>\n",
       "    <tr>\n",
       "      <th>3</th>\n",
       "      <td>06Q</td>\n",
       "      <td>Master Top Linhas Aereas Ltd. (2007 - )</td>\n",
       "    </tr>\n",
       "    <tr>\n",
       "      <th>4</th>\n",
       "      <td>07Q</td>\n",
       "      <td>Flair Airlines Ltd. (2007 - )</td>\n",
       "    </tr>\n",
       "  </tbody>\n",
       "</table>\n",
       "</div>"
      ],
      "text/plain": [
       "  Code                              Description\n",
       "0  02Q                  Titan Airways (2006 - )\n",
       "1  04Q             Tradewind Aviation (2006 - )\n",
       "2  05Q        Comlux Aviation, AG (2006 - 2012)\n",
       "3  06Q  Master Top Linhas Aereas Ltd. (2007 - )\n",
       "4  07Q            Flair Airlines Ltd. (2007 - )"
      ]
     },
     "execution_count": 274,
     "metadata": {},
     "output_type": "execute_result"
    }
   ],
   "source": [
    "#df_carrier_.head()\n",
    "#df_carrier_dir.head()"
   ]
  },
  {
   "cell_type": "markdown",
   "metadata": {},
   "source": [
    "### Q3 What airport has the 10th most delays? "
   ]
  },
  {
   "cell_type": "code",
   "execution_count": 23,
   "metadata": {},
   "outputs": [
    {
     "data": {
      "text/html": [
       "<div>\n",
       "<style scoped>\n",
       "    .dataframe tbody tr th:only-of-type {\n",
       "        vertical-align: middle;\n",
       "    }\n",
       "\n",
       "    .dataframe tbody tr th {\n",
       "        vertical-align: top;\n",
       "    }\n",
       "\n",
       "    .dataframe thead th {\n",
       "        text-align: right;\n",
       "    }\n",
       "</style>\n",
       "<table border=\"1\" class=\"dataframe\">\n",
       "  <thead>\n",
       "    <tr style=\"text-align: right;\">\n",
       "      <th></th>\n",
       "      <th>DEP_DELAY_NEW</th>\n",
       "    </tr>\n",
       "    <tr>\n",
       "      <th>ORIGIN_AIRPORT_ID</th>\n",
       "      <th></th>\n",
       "    </tr>\n",
       "  </thead>\n",
       "  <tbody>\n",
       "    <tr>\n",
       "      <th>13930</th>\n",
       "      <td>5068260.0</td>\n",
       "    </tr>\n",
       "    <tr>\n",
       "      <th>10397</th>\n",
       "      <td>4117759.0</td>\n",
       "    </tr>\n",
       "    <tr>\n",
       "      <th>11298</th>\n",
       "      <td>3885016.0</td>\n",
       "    </tr>\n",
       "    <tr>\n",
       "      <th>11292</th>\n",
       "      <td>3534133.0</td>\n",
       "    </tr>\n",
       "    <tr>\n",
       "      <th>12892</th>\n",
       "      <td>2688709.0</td>\n",
       "    </tr>\n",
       "  </tbody>\n",
       "</table>\n",
       "</div>"
      ],
      "text/plain": [
       "                   DEP_DELAY_NEW\n",
       "ORIGIN_AIRPORT_ID               \n",
       "13930                  5068260.0\n",
       "10397                  4117759.0\n",
       "11298                  3885016.0\n",
       "11292                  3534133.0\n",
       "12892                  2688709.0"
      ]
     },
     "execution_count": 23,
     "metadata": {},
     "output_type": "execute_result"
    }
   ],
   "source": [
    "#Arrival Delay \n",
    "df_delay_ = df[['ARR_DELAY_NEW',\"DEST_AIRPORT_ID\"]] \n",
    "df_arr = df_delay_.groupby(['DEST_AIRPORT_ID']).sum().sort_values(ascending= False,by = 'ARR_DELAY_NEW')\n",
    "\n",
    "#Departure Delay\n",
    "df_dep_= df_[['DEP_DELAY_NEW',\"ORIGIN_AIRPORT_ID\"]] \n",
    "df_dep = df_dep_.groupby(['ORIGIN_AIRPORT_ID']).sum().sort_values(ascending= False,by = 'DEP_DELAY_NEW')\n",
    "\n",
    "#df_arr.columns = df_arr.columns.droplevel(0)\n",
    "df_dep.head()"
   ]
  },
  {
   "cell_type": "code",
   "execution_count": 24,
   "metadata": {},
   "outputs": [],
   "source": [
    "df_delay = pd.merge(df_dep, df_arr, left_index=True, right_index=True)"
   ]
  },
  {
   "cell_type": "code",
   "execution_count": 25,
   "metadata": {},
   "outputs": [],
   "source": [
    "df_delay['Total Delay'] = df_delay['DEP_DELAY_NEW'] + df_delay['ARR_DELAY_NEW']\n",
    "df_delay['Airport_ID'] = df_delay.index\n",
    "df_delay['Airport'] = df_delay['Airport_ID'].apply(lambda x: (df_airp_dir[df_airp_dir['Code'] == x].values.tolist()[0][1]).split(':')[1])"
   ]
  },
  {
   "cell_type": "code",
   "execution_count": 440,
   "metadata": {},
   "outputs": [
    {
     "data": {
      "image/png": "[encoded data removed]",
      "text/plain": [
       "<Figure size 842.4x595.44 with 1 Axes>"
      ]
     },
     "metadata": {},
     "output_type": "display_data"
    }
   ],
   "source": [
    "df_delay = df_delay.drop(['Airport_ID'], axis =1).sort_values(ascending= False,by = 'Total Delay')\n",
    "#Sum delays\n",
    "df_delay_plot = pd.melt(df_delay[0:10], id_vars=\"Airport\", var_name=\"Airports\", value_name=\"Delays\")\n",
    "f, ax = plt.subplots(figsize=(11.7, 8.27))\n",
    "sns.factorplot(x='Airport', y=\"Delays\", hue='Airports', data=df_delay_plot, kind='bar', ax = ax)\n",
    "plt.setp(ax.get_xticklabels(), rotation=60)\n",
    "plt.close(2)\n",
    "plt.show()"
   ]
  },
  {
   "cell_type": "code",
   "execution_count": 433,
   "metadata": {},
   "outputs": [
    {
     "data": {
      "image/png": "[encoded data removed]",
      "text/plain": [
       "<Figure size 842.4x595.44 with 1 Axes>"
      ]
     },
     "metadata": {},
     "output_type": "display_data"
    }
   ],
   "source": [
    "#Mean delays\n",
    "df_delay_plot = pd.melt(df_delay[0:10], id_vars=\"Airport\", var_name=\"Airports\", value_name=\"Delays\")\n",
    "f, ax = plt.subplots(figsize=(11.7, 8.27))\n",
    "sns.factorplot(x='Airport', y=\"Delays\", hue='Airports', data=df_delay_plot, kind='bar', ax = ax)\n",
    "plt.setp(ax.get_xticklabels(), rotation=60)\n",
    "plt.close(2)\n",
    "plt.show()"
   ]
  },
  {
   "cell_type": "code",
   "execution_count": 402,
   "metadata": {},
   "outputs": [
    {
     "data": {
      "text/html": [
       "<div>\n",
       "<style>\n",
       "    .dataframe thead tr:only-child th {\n",
       "        text-align: right;\n",
       "    }\n",
       "\n",
       "    .dataframe thead th {\n",
       "        text-align: left;\n",
       "    }\n",
       "\n",
       "    .dataframe tbody tr th {\n",
       "        vertical-align: top;\n",
       "    }\n",
       "</style>\n",
       "<table border=\"1\" class=\"dataframe\">\n",
       "  <thead>\n",
       "    <tr style=\"text-align: right;\">\n",
       "      <th></th>\n",
       "      <th>DEP_DELAY_NEW</th>\n",
       "      <th>ARR_DELAY_NEW</th>\n",
       "      <th>Total Delay</th>\n",
       "      <th>Airport</th>\n",
       "    </tr>\n",
       "  </thead>\n",
       "  <tbody>\n",
       "    <tr>\n",
       "      <th>13930</th>\n",
       "      <td>5068260.0</td>\n",
       "      <td>5403345.0</td>\n",
       "      <td>10471605.0</td>\n",
       "      <td>Chicago O'Hare International</td>\n",
       "    </tr>\n",
       "    <tr>\n",
       "      <th>10397</th>\n",
       "      <td>4117759.0</td>\n",
       "      <td>4195308.0</td>\n",
       "      <td>8313067.0</td>\n",
       "      <td>Hartsfield-Jackson Atlanta International</td>\n",
       "    </tr>\n",
       "    <tr>\n",
       "      <th>11298</th>\n",
       "      <td>3885016.0</td>\n",
       "      <td>4237688.0</td>\n",
       "      <td>8122704.0</td>\n",
       "      <td>Dallas/Fort Worth International</td>\n",
       "    </tr>\n",
       "    <tr>\n",
       "      <th>11292</th>\n",
       "      <td>3534133.0</td>\n",
       "      <td>3109325.0</td>\n",
       "      <td>6643458.0</td>\n",
       "      <td>Denver International</td>\n",
       "    </tr>\n",
       "    <tr>\n",
       "      <th>14771</th>\n",
       "      <td>2504576.0</td>\n",
       "      <td>3127287.0</td>\n",
       "      <td>5631863.0</td>\n",
       "      <td>San Francisco International</td>\n",
       "    </tr>\n",
       "    <tr>\n",
       "      <th>12892</th>\n",
       "      <td>2688709.0</td>\n",
       "      <td>2852542.0</td>\n",
       "      <td>5541251.0</td>\n",
       "      <td>Los Angeles International</td>\n",
       "    </tr>\n",
       "    <tr>\n",
       "      <th>12266</th>\n",
       "      <td>2384846.0</td>\n",
       "      <td>2368760.0</td>\n",
       "      <td>4753606.0</td>\n",
       "      <td>George Bush Intercontinental/Houston</td>\n",
       "    </tr>\n",
       "    <tr>\n",
       "      <th>11618</th>\n",
       "      <td>1810129.0</td>\n",
       "      <td>1957536.0</td>\n",
       "      <td>3767665.0</td>\n",
       "      <td>Newark Liberty International</td>\n",
       "    </tr>\n",
       "    <tr>\n",
       "      <th>12889</th>\n",
       "      <td>1935302.0</td>\n",
       "      <td>1656182.0</td>\n",
       "      <td>3591484.0</td>\n",
       "      <td>McCarran International</td>\n",
       "    </tr>\n",
       "    <tr>\n",
       "      <th>14107</th>\n",
       "      <td>1866346.0</td>\n",
       "      <td>1664589.0</td>\n",
       "      <td>3530935.0</td>\n",
       "      <td>Phoenix Sky Harbor International</td>\n",
       "    </tr>\n",
       "  </tbody>\n",
       "</table>\n",
       "</div>"
      ],
      "text/plain": [
       "       DEP_DELAY_NEW  ARR_DELAY_NEW  Total Delay  \\\n",
       "13930      5068260.0      5403345.0   10471605.0   \n",
       "10397      4117759.0      4195308.0    8313067.0   \n",
       "11298      3885016.0      4237688.0    8122704.0   \n",
       "11292      3534133.0      3109325.0    6643458.0   \n",
       "14771      2504576.0      3127287.0    5631863.0   \n",
       "12892      2688709.0      2852542.0    5541251.0   \n",
       "12266      2384846.0      2368760.0    4753606.0   \n",
       "11618      1810129.0      1957536.0    3767665.0   \n",
       "12889      1935302.0      1656182.0    3591484.0   \n",
       "14107      1866346.0      1664589.0    3530935.0   \n",
       "\n",
       "                                         Airport  \n",
       "13930               Chicago O'Hare International  \n",
       "10397   Hartsfield-Jackson Atlanta International  \n",
       "11298            Dallas/Fort Worth International  \n",
       "11292                       Denver International  \n",
       "14771                San Francisco International  \n",
       "12892                  Los Angeles International  \n",
       "12266       George Bush Intercontinental/Houston  \n",
       "11618               Newark Liberty International  \n",
       "12889                     McCarran International  \n",
       "14107           Phoenix Sky Harbor International  "
      ]
     },
     "execution_count": 402,
     "metadata": {},
     "output_type": "execute_result"
    }
   ],
   "source": [
    "df_delay[0:10]\n",
    "#The answer is Phoenix Sky Harbor International."
   ]
  },
  {
   "cell_type": "markdown",
   "metadata": {},
   "source": [
    "### Q4. What is the second most popular day of the week to travel? Why?\n"
   ]
  },
  {
   "cell_type": "code",
   "execution_count": 28,
   "metadata": {},
   "outputs": [],
   "source": [
    "#Convert to datetime \n",
    "df['Date'] = pd.to_datetime(df['FL_DATE'],format='%Y-%m-%d', errors='ignore')"
   ]
  },
  {
   "cell_type": "code",
   "execution_count": 29,
   "metadata": {},
   "outputs": [],
   "source": [
    "#Extract date details \n",
    "from datetime import datetime as dt\n",
    "df['Year'] = df['Date'].dt.year\n",
    "df['Month'] = df['Date'].dt.month\n",
    "df['Day'] = df['Date'].dt.day\n",
    "df['Weekday'] = df['Date'].dt.weekday   #Monday is 0 and Sunday is 6"
   ]
  },
  {
   "cell_type": "code",
   "execution_count": 30,
   "metadata": {},
   "outputs": [],
   "source": [
    "#Count most popular day of the week \n",
    "df_pop = df.groupby(['Weekday']).size().reset_index(name='counts').sort_values(ascending= False,by = 'counts')\n"
   ]
  },
  {
   "cell_type": "code",
   "execution_count": 31,
   "metadata": {},
   "outputs": [
    {
     "data": {
      "text/html": [
       "<div>\n",
       "<style scoped>\n",
       "    .dataframe tbody tr th:only-of-type {\n",
       "        vertical-align: middle;\n",
       "    }\n",
       "\n",
       "    .dataframe tbody tr th {\n",
       "        vertical-align: top;\n",
       "    }\n",
       "\n",
       "    .dataframe thead th {\n",
       "        text-align: right;\n",
       "    }\n",
       "</style>\n",
       "<table border=\"1\" class=\"dataframe\">\n",
       "  <thead>\n",
       "    <tr style=\"text-align: right;\">\n",
       "      <th></th>\n",
       "      <th>Weekday</th>\n",
       "      <th>counts</th>\n",
       "    </tr>\n",
       "  </thead>\n",
       "  <tbody>\n",
       "    <tr>\n",
       "      <th>0</th>\n",
       "      <td>0</td>\n",
       "      <td>867299</td>\n",
       "    </tr>\n",
       "    <tr>\n",
       "      <th>2</th>\n",
       "      <td>2</td>\n",
       "      <td>864033</td>\n",
       "    </tr>\n",
       "    <tr>\n",
       "      <th>4</th>\n",
       "      <td>4</td>\n",
       "      <td>863423</td>\n",
       "    </tr>\n",
       "    <tr>\n",
       "      <th>3</th>\n",
       "      <td>3</td>\n",
       "      <td>862984</td>\n",
       "    </tr>\n",
       "    <tr>\n",
       "      <th>1</th>\n",
       "      <td>1</td>\n",
       "      <td>845320</td>\n",
       "    </tr>\n",
       "  </tbody>\n",
       "</table>\n",
       "</div>"
      ],
      "text/plain": [
       "   Weekday  counts\n",
       "0        0  867299\n",
       "2        2  864033\n",
       "4        4  863423\n",
       "3        3  862984\n",
       "1        1  845320"
      ]
     },
     "execution_count": 31,
     "metadata": {},
     "output_type": "execute_result"
    }
   ],
   "source": [
    "df_pop.head()\n",
    "# Wednesday"
   ]
  },
  {
   "cell_type": "markdown",
   "metadata": {
    "collapsed": true
   },
   "source": [
    "# my analysis"
   ]
  },
  {
   "cell_type": "code",
   "execution_count": 133,
   "metadata": {},
   "outputs": [
    {
     "data": {
      "text/html": [
       "<div>\n",
       "<style scoped>\n",
       "    .dataframe tbody tr th:only-of-type {\n",
       "        vertical-align: middle;\n",
       "    }\n",
       "\n",
       "    .dataframe tbody tr th {\n",
       "        vertical-align: top;\n",
       "    }\n",
       "\n",
       "    .dataframe thead th {\n",
       "        text-align: right;\n",
       "    }\n",
       "</style>\n",
       "<table border=\"1\" class=\"dataframe\">\n",
       "  <thead>\n",
       "    <tr style=\"text-align: right;\">\n",
       "      <th></th>\n",
       "      <th>DEP_TIME</th>\n",
       "      <th>DEP_DELAY</th>\n",
       "      <th>ARR_DELAY_NEW</th>\n",
       "      <th>ARR_DEL15</th>\n",
       "      <th>DEP_DEL15</th>\n",
       "      <th>DEP_DELAY_NEW</th>\n",
       "      <th>DEP_DELAY</th>\n",
       "    </tr>\n",
       "  </thead>\n",
       "  <tbody>\n",
       "    <tr>\n",
       "      <th>0</th>\n",
       "      <td>1457.0</td>\n",
       "      <td>102.0</td>\n",
       "      <td>109.0</td>\n",
       "      <td>1.0</td>\n",
       "      <td>1.0</td>\n",
       "      <td>102.0</td>\n",
       "      <td>102.0</td>\n",
       "    </tr>\n",
       "    <tr>\n",
       "      <th>1</th>\n",
       "      <td>1133.0</td>\n",
       "      <td>28.0</td>\n",
       "      <td>40.0</td>\n",
       "      <td>1.0</td>\n",
       "      <td>1.0</td>\n",
       "      <td>28.0</td>\n",
       "      <td>28.0</td>\n",
       "    </tr>\n",
       "    <tr>\n",
       "      <th>2</th>\n",
       "      <td>752.0</td>\n",
       "      <td>2.0</td>\n",
       "      <td>9.0</td>\n",
       "      <td>0.0</td>\n",
       "      <td>0.0</td>\n",
       "      <td>2.0</td>\n",
       "      <td>2.0</td>\n",
       "    </tr>\n",
       "    <tr>\n",
       "      <th>3</th>\n",
       "      <td>2142.0</td>\n",
       "      <td>267.0</td>\n",
       "      <td>271.0</td>\n",
       "      <td>1.0</td>\n",
       "      <td>1.0</td>\n",
       "      <td>267.0</td>\n",
       "      <td>267.0</td>\n",
       "    </tr>\n",
       "    <tr>\n",
       "      <th>4</th>\n",
       "      <td>1114.0</td>\n",
       "      <td>69.0</td>\n",
       "      <td>68.0</td>\n",
       "      <td>1.0</td>\n",
       "      <td>1.0</td>\n",
       "      <td>69.0</td>\n",
       "      <td>69.0</td>\n",
       "    </tr>\n",
       "  </tbody>\n",
       "</table>\n",
       "</div>"
      ],
      "text/plain": [
       "   DEP_TIME  DEP_DELAY  ARR_DELAY_NEW  ARR_DEL15  DEP_DEL15  DEP_DELAY_NEW  \\\n",
       "0    1457.0      102.0          109.0        1.0        1.0          102.0   \n",
       "1    1133.0       28.0           40.0        1.0        1.0           28.0   \n",
       "2     752.0        2.0            9.0        0.0        0.0            2.0   \n",
       "3    2142.0      267.0          271.0        1.0        1.0          267.0   \n",
       "4    1114.0       69.0           68.0        1.0        1.0           69.0   \n",
       "\n",
       "   DEP_DELAY  \n",
       "0      102.0  \n",
       "1       28.0  \n",
       "2        2.0  \n",
       "3      267.0  \n",
       "4       69.0  "
      ]
     },
     "execution_count": 133,
     "metadata": {},
     "output_type": "execute_result"
    }
   ],
   "source": [
    "df1.head()"
   ]
  },
  {
   "cell_type": "code",
   "execution_count": 129,
   "metadata": {},
   "outputs": [
    {
     "data": {
      "text/html": [
       "<div>\n",
       "<style scoped>\n",
       "    .dataframe tbody tr th:only-of-type {\n",
       "        vertical-align: middle;\n",
       "    }\n",
       "\n",
       "    .dataframe tbody tr th {\n",
       "        vertical-align: top;\n",
       "    }\n",
       "\n",
       "    .dataframe thead th {\n",
       "        text-align: right;\n",
       "    }\n",
       "</style>\n",
       "<table border=\"1\" class=\"dataframe\">\n",
       "  <thead>\n",
       "    <tr style=\"text-align: right;\">\n",
       "      <th></th>\n",
       "      <th>DEP_TIME</th>\n",
       "      <th>DEP_DELAY</th>\n",
       "      <th>ARR_DELAY_NEW</th>\n",
       "      <th>ARR_DEL15</th>\n",
       "      <th>DEP_DEL15</th>\n",
       "      <th>DEP_DELAY_NEW</th>\n",
       "      <th>DEP_DELAY</th>\n",
       "    </tr>\n",
       "  </thead>\n",
       "  <tbody>\n",
       "    <tr>\n",
       "      <th>0</th>\n",
       "      <td>1457.0</td>\n",
       "      <td>102.0</td>\n",
       "      <td>109.0</td>\n",
       "      <td>1.0</td>\n",
       "      <td>1.0</td>\n",
       "      <td>102.0</td>\n",
       "      <td>102.0</td>\n",
       "    </tr>\n",
       "    <tr>\n",
       "      <th>1</th>\n",
       "      <td>1133.0</td>\n",
       "      <td>28.0</td>\n",
       "      <td>40.0</td>\n",
       "      <td>1.0</td>\n",
       "      <td>1.0</td>\n",
       "      <td>28.0</td>\n",
       "      <td>28.0</td>\n",
       "    </tr>\n",
       "    <tr>\n",
       "      <th>2</th>\n",
       "      <td>752.0</td>\n",
       "      <td>2.0</td>\n",
       "      <td>9.0</td>\n",
       "      <td>0.0</td>\n",
       "      <td>0.0</td>\n",
       "      <td>2.0</td>\n",
       "      <td>2.0</td>\n",
       "    </tr>\n",
       "    <tr>\n",
       "      <th>3</th>\n",
       "      <td>2142.0</td>\n",
       "      <td>267.0</td>\n",
       "      <td>271.0</td>\n",
       "      <td>1.0</td>\n",
       "      <td>1.0</td>\n",
       "      <td>267.0</td>\n",
       "      <td>267.0</td>\n",
       "    </tr>\n",
       "    <tr>\n",
       "      <th>4</th>\n",
       "      <td>1114.0</td>\n",
       "      <td>69.0</td>\n",
       "      <td>68.0</td>\n",
       "      <td>1.0</td>\n",
       "      <td>1.0</td>\n",
       "      <td>69.0</td>\n",
       "      <td>69.0</td>\n",
       "    </tr>\n",
       "  </tbody>\n",
       "</table>\n",
       "</div>"
      ],
      "text/plain": [
       "   DEP_TIME  DEP_DELAY  ARR_DELAY_NEW  ARR_DEL15  DEP_DEL15  DEP_DELAY_NEW  \\\n",
       "0    1457.0      102.0          109.0        1.0        1.0          102.0   \n",
       "1    1133.0       28.0           40.0        1.0        1.0           28.0   \n",
       "2     752.0        2.0            9.0        0.0        0.0            2.0   \n",
       "3    2142.0      267.0          271.0        1.0        1.0          267.0   \n",
       "4    1114.0       69.0           68.0        1.0        1.0           69.0   \n",
       "\n",
       "   DEP_DELAY  \n",
       "0      102.0  \n",
       "1       28.0  \n",
       "2        2.0  \n",
       "3      267.0  \n",
       "4       69.0  "
      ]
     },
     "execution_count": 129,
     "metadata": {},
     "output_type": "execute_result"
    }
   ],
   "source": [
    "df1=df.loc[df['UNIQUE_CARRIER'] == 'AA']\n",
    "df1=df1.loc[df1['ORIGIN'] == 'ORD']\n",
    "df1 = df1[['DEP_TIME','DEP_DELAY','ARR_DELAY_NEW','ARR_DEL15','DEP_DEL15','DEP_DELAY_NEW','DEP_DELAY']]\n",
    "df1=df1.dropna() \n",
    "df1=df1.reset_index(drop=True)\n",
    "df1.head()"
   ]
  },
  {
   "cell_type": "code",
   "execution_count": 130,
   "metadata": {},
   "outputs": [],
   "source": [
    " #sns.pairplot(df1)"
   ]
  },
  {
   "cell_type": "code",
   "execution_count": 131,
   "metadata": {},
   "outputs": [],
   "source": [
    "#df_new=df.drop(['Date','Unnamed: 50','DEST_CITY_NAME','DEST_STATE_NM','FL_DATE'], axis=1)"
   ]
  },
  {
   "cell_type": "code",
   "execution_count": null,
   "metadata": {},
   "outputs": [],
   "source": []
  },
  {
   "cell_type": "code",
   "execution_count": 132,
   "metadata": {},
   "outputs": [
    {
     "data": {
      "text/plain": [
       "<matplotlib.axes._subplots.AxesSubplot at 0x20d5a9b1e10>"
      ]
     },
     "execution_count": 132,
     "metadata": {},
     "output_type": "execute_result"
    },
    {
     "data": {
      "image/png": "[encoded data removed]",
      "text/plain": [
       "<matplotlib.figure.Figure at 0x20d5a9ba780>"
      ]
     },
     "metadata": {},
     "output_type": "display_data"
    }
   ],
   "source": [
    "str_list = [] # empty list to contain columns with strings (words)\n",
    "for colname, colvalue in df1.iteritems():\n",
    "    if type(colvalue[1]) == str:\n",
    "         str_list.append(colname)\n",
    "# Get to the numeric columns by inversion            \n",
    "num_list = df1.columns.difference(str_list) \n",
    "# Create Dataframe containing only numerical features\n",
    "data_num = df1[num_list]\n",
    "f, ax = plt.subplots(figsize=(16, 12))\n",
    "plt.title('Pearson Correlation of features')\n",
    "# Draw the heatmap using seaborn\n",
    "sns.heatmap(data_num.astype(float).corr(),linewidths=1,vmax=1.0, square=True, cmap=\"cubehelix\", linecolor='k', annot=True)"
   ]
  },
  {
   "cell_type": "code",
   "execution_count": null,
   "metadata": {},
   "outputs": [],
   "source": []
  }
 ],
 "metadata": {
  "kernelspec": {
   "display_name": "Python 3",
   "language": "python",
   "name": "python3"
  },
  "language_info": {
   "codemirror_mode": {
    "name": "ipython",
    "version": 3
   },
   "file_extension": ".py",
   "mimetype": "text/x-python",
   "name": "python",
   "nbconvert_exporter": "python",
   "pygments_lexer": "ipython3",
   "version": "3.6.4"
  }
 },
 "nbformat": 4,
 "nbformat_minor": 2
}
