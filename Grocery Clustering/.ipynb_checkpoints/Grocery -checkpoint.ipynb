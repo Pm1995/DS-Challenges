{
 "cells": [
  {
   "cell_type": "code",
   "execution_count": 81,
   "metadata": {},
   "outputs": [],
   "source": [
    "import pandas as pd\n",
    "import numpy as np\n",
    "import matplotlib.pyplot as plt\n",
    "import seaborn as sns"
   ]
  },
  {
   "cell_type": "code",
   "execution_count": 82,
   "metadata": {},
   "outputs": [],
   "source": [
    "item_to_id=pd.read_csv('item_to_id.csv')\n",
    "df=pd.read_csv('purchase_history.csv')"
   ]
  },
  {
   "cell_type": "code",
   "execution_count": 3,
   "metadata": {},
   "outputs": [
    {
     "data": {
      "text/html": [
       "<div>\n",
       "<style scoped>\n",
       "    .dataframe tbody tr th:only-of-type {\n",
       "        vertical-align: middle;\n",
       "    }\n",
       "\n",
       "    .dataframe tbody tr th {\n",
       "        vertical-align: top;\n",
       "    }\n",
       "\n",
       "    .dataframe thead th {\n",
       "        text-align: right;\n",
       "    }\n",
       "</style>\n",
       "<table border=\"1\" class=\"dataframe\">\n",
       "  <thead>\n",
       "    <tr style=\"text-align: right;\">\n",
       "      <th></th>\n",
       "      <th>Item_name</th>\n",
       "      <th>Item_id</th>\n",
       "    </tr>\n",
       "  </thead>\n",
       "  <tbody>\n",
       "    <tr>\n",
       "      <th>0</th>\n",
       "      <td>coffee</td>\n",
       "      <td>43</td>\n",
       "    </tr>\n",
       "    <tr>\n",
       "      <th>1</th>\n",
       "      <td>tea</td>\n",
       "      <td>23</td>\n",
       "    </tr>\n",
       "    <tr>\n",
       "      <th>2</th>\n",
       "      <td>juice</td>\n",
       "      <td>38</td>\n",
       "    </tr>\n",
       "    <tr>\n",
       "      <th>3</th>\n",
       "      <td>soda</td>\n",
       "      <td>9</td>\n",
       "    </tr>\n",
       "    <tr>\n",
       "      <th>4</th>\n",
       "      <td>sandwich loaves</td>\n",
       "      <td>39</td>\n",
       "    </tr>\n",
       "  </tbody>\n",
       "</table>\n",
       "</div>"
      ],
      "text/plain": [
       "         Item_name  Item_id\n",
       "0           coffee       43\n",
       "1              tea       23\n",
       "2            juice       38\n",
       "3             soda        9\n",
       "4  sandwich loaves       39"
      ]
     },
     "execution_count": 3,
     "metadata": {},
     "output_type": "execute_result"
    }
   ],
   "source": [
    "item_to_id.head()"
   ]
  },
  {
   "cell_type": "code",
   "execution_count": 9,
   "metadata": {},
   "outputs": [
    {
     "data": {
      "text/html": [
       "<div>\n",
       "<style scoped>\n",
       "    .dataframe tbody tr th:only-of-type {\n",
       "        vertical-align: middle;\n",
       "    }\n",
       "\n",
       "    .dataframe tbody tr th {\n",
       "        vertical-align: top;\n",
       "    }\n",
       "\n",
       "    .dataframe thead th {\n",
       "        text-align: right;\n",
       "    }\n",
       "</style>\n",
       "<table border=\"1\" class=\"dataframe\">\n",
       "  <thead>\n",
       "    <tr style=\"text-align: right;\">\n",
       "      <th></th>\n",
       "      <th>user_id</th>\n",
       "      <th>id</th>\n",
       "    </tr>\n",
       "  </thead>\n",
       "  <tbody>\n",
       "    <tr>\n",
       "      <th>0</th>\n",
       "      <td>222087</td>\n",
       "      <td>27,26</td>\n",
       "    </tr>\n",
       "    <tr>\n",
       "      <th>1</th>\n",
       "      <td>1343649</td>\n",
       "      <td>6,47,17</td>\n",
       "    </tr>\n",
       "    <tr>\n",
       "      <th>2</th>\n",
       "      <td>404134</td>\n",
       "      <td>18,12,23,22,27,43,38,20,35,1</td>\n",
       "    </tr>\n",
       "    <tr>\n",
       "      <th>3</th>\n",
       "      <td>1110200</td>\n",
       "      <td>9,23,2,20,26,47,37</td>\n",
       "    </tr>\n",
       "    <tr>\n",
       "      <th>4</th>\n",
       "      <td>224107</td>\n",
       "      <td>31,18,5,13,1,21,48,16,26,2,44,32,20,37,42,35,4...</td>\n",
       "    </tr>\n",
       "  </tbody>\n",
       "</table>\n",
       "</div>"
      ],
      "text/plain": [
       "   user_id                                                 id\n",
       "0   222087                                              27,26\n",
       "1  1343649                                            6,47,17\n",
       "2   404134                       18,12,23,22,27,43,38,20,35,1\n",
       "3  1110200                                 9,23,2,20,26,47,37\n",
       "4   224107  31,18,5,13,1,21,48,16,26,2,44,32,20,37,42,35,4..."
      ]
     },
     "execution_count": 9,
     "metadata": {},
     "output_type": "execute_result"
    }
   ],
   "source": [
    "#purchase history\n",
    "df.head()"
   ]
  },
  {
   "cell_type": "code",
   "execution_count": 83,
   "metadata": {},
   "outputs": [],
   "source": [
    "df['id']=df.id.str.split(',')"
   ]
  },
  {
   "cell_type": "markdown",
   "metadata": {},
   "source": [
    "# question 1- the customer who bought the most items overall in her lifetime"
   ]
  },
  {
   "cell_type": "code",
   "execution_count": 84,
   "metadata": {},
   "outputs": [],
   "source": [
    "import collections\n",
    "from collections import Counter\n",
    "def count_cities(df):\n",
    "    c = Counter(i for id in df.id for i in id)\n",
    "    return pd.Series(c)\n",
    "search_by_user = df.groupby(\"user_id\").apply(count_cities).unstack(fill_value=0)"
   ]
  },
  {
   "cell_type": "code",
   "execution_count": 85,
   "metadata": {},
   "outputs": [],
   "source": [
    "#get user with most items purchased\n",
    "def get(data):\n",
    "    data['total']=data[data.columns].sum(axis=1)\n",
    "    return data.nlargest(1, 'total')['total']    "
   ]
  },
  {
   "cell_type": "code",
   "execution_count": 86,
   "metadata": {},
   "outputs": [
    {
     "name": "stdout",
     "output_type": "stream",
     "text": [
      "user_id\n",
      "269335    72\n",
      "Name: total, dtype: int64\n"
     ]
    }
   ],
   "source": [
    "print(get(search_by_user))"
   ]
  },
  {
   "cell_type": "markdown",
   "metadata": {},
   "source": [
    "user 269335 has purchased the highest number of items in his/her lifetime "
   ]
  },
  {
   "cell_type": "markdown",
   "metadata": {},
   "source": [
    "# question 2- for each item, the customer who bought that product the most"
   ]
  },
  {
   "cell_type": "code",
   "execution_count": 132,
   "metadata": {},
   "outputs": [
    {
     "data": {
      "text/plain": [
       "user_id\n",
       "269335    4\n",
       "Name: 9, dtype: int64"
      ]
     },
     "execution_count": 132,
     "metadata": {},
     "output_type": "execute_result"
    }
   ],
   "source": [
    "search_by_user.nlargest(1,'9')['9']"
   ]
  },
  {
   "cell_type": "code",
   "execution_count": 124,
   "metadata": {},
   "outputs": [
    {
     "name": "stdout",
     "output_type": "stream",
     "text": [
      "user_id\n",
      "31625    4\n",
      "Name: 1, dtype: int64 1\n",
      "user_id\n",
      "618914    4\n",
      "Name: 10, dtype: int64 10\n",
      "user_id\n",
      "367872    3\n",
      "Name: 11, dtype: int64 11\n",
      "user_id\n",
      "557904    3\n",
      "Name: 12, dtype: int64 12\n",
      "user_id\n",
      "653800    4\n",
      "Name: 13, dtype: int64 13\n",
      "user_id\n",
      "172120    3\n",
      "Name: 14, dtype: int64 14\n",
      "user_id\n",
      "143741    3\n",
      "Name: 15, dtype: int64 15\n",
      "user_id\n",
      "73071    3\n",
      "Name: 16, dtype: int64 16\n",
      "user_id\n",
      "366155    4\n",
      "Name: 17, dtype: int64 17\n",
      "user_id\n",
      "917199    5\n",
      "Name: 18, dtype: int64 18\n",
      "user_id\n",
      "31625    3\n",
      "Name: 19, dtype: int64 19\n",
      "user_id\n",
      "31625    5\n",
      "Name: 2, dtype: int64 2\n",
      "user_id\n",
      "885474    4\n",
      "Name: 20, dtype: int64 20\n",
      "user_id\n",
      "884172    4\n",
      "Name: 21, dtype: int64 21\n",
      "user_id\n",
      "1199670    4\n",
      "Name: 22, dtype: int64 22\n",
      "user_id\n",
      "920002    5\n",
      "Name: 23, dtype: int64 23\n",
      "user_id\n",
      "189913    3\n",
      "Name: 24, dtype: int64 24\n",
      "user_id\n",
      "68282    4\n",
      "Name: 25, dtype: int64 25\n",
      "user_id\n",
      "967573    4\n",
      "Name: 26, dtype: int64 26\n",
      "user_id\n",
      "956666    4\n",
      "Name: 27, dtype: int64 27\n",
      "user_id\n",
      "204624    4\n",
      "Name: 28, dtype: int64 28\n",
      "user_id\n",
      "394348    4\n",
      "Name: 29, dtype: int64 29\n",
      "user_id\n",
      "154960    4\n",
      "Name: 3, dtype: int64 3\n",
      "user_id\n",
      "21779    2\n",
      "Name: 30, dtype: int64 30\n",
      "user_id\n",
      "289360    3\n",
      "Name: 31, dtype: int64 31\n",
      "user_id\n",
      "109578    4\n",
      "Name: 32, dtype: int64 32\n",
      "user_id\n",
      "1310207    3\n",
      "Name: 33, dtype: int64 33\n",
      "user_id\n",
      "305916    4\n",
      "Name: 34, dtype: int64 34\n",
      "user_id\n",
      "450482    3\n",
      "Name: 35, dtype: int64 35\n",
      "user_id\n",
      "269335    4\n",
      "Name: 36, dtype: int64 36\n",
      "user_id\n",
      "46757    4\n",
      "Name: 37, dtype: int64 37\n",
      "user_id\n",
      "255546    4\n",
      "Name: 38, dtype: int64 38\n",
      "user_id\n",
      "599172    5\n",
      "Name: 39, dtype: int64 39\n",
      "user_id\n",
      "5289    3\n",
      "Name: 4, dtype: int64 4\n",
      "user_id\n",
      "38872    4\n",
      "Name: 40, dtype: int64 40\n",
      "user_id\n",
      "133355    4\n",
      "Name: 41, dtype: int64 41\n",
      "user_id\n",
      "80215    4\n",
      "Name: 42, dtype: int64 42\n",
      "user_id\n",
      "996380    4\n",
      "Name: 43, dtype: int64 43\n",
      "user_id\n",
      "31625    4\n",
      "Name: 44, dtype: int64 44\n",
      "user_id\n",
      "1198106    5\n",
      "Name: 45, dtype: int64 45\n",
      "user_id\n",
      "1218645    4\n",
      "Name: 46, dtype: int64 46\n",
      "user_id\n",
      "384935    4\n",
      "Name: 47, dtype: int64 47\n",
      "user_id\n",
      "335841    3\n",
      "Name: 48, dtype: int64 48\n",
      "user_id\n",
      "217277    3\n",
      "Name: 5, dtype: int64 5\n",
      "user_id\n",
      "334664    4\n",
      "Name: 6, dtype: int64 6\n",
      "user_id\n",
      "175865    3\n",
      "Name: 7, dtype: int64 7\n",
      "user_id\n",
      "151926    3\n",
      "Name: 8, dtype: int64 8\n",
      "user_id\n",
      "269335    4\n",
      "Name: 9, dtype: int64 9\n",
      "user_id\n",
      "269335    72\n",
      "Name: total, dtype: int64 total\n"
     ]
    }
   ],
   "source": [
    "for column in search_by_user.columns:\n",
    "    h=search_by_user.nlargest(1,column)[column]\n",
    "    #merge_value = pd.merge(h,search_by_user.reset_index(), on='user_id', how='left')\n",
    "    print(h,column)"
   ]
  },
  {
   "cell_type": "code",
   "execution_count": null,
   "metadata": {},
   "outputs": [],
   "source": []
  }
 ],
 "metadata": {
  "kernelspec": {
   "display_name": "Python 3",
   "language": "python",
   "name": "python3"
  },
  "language_info": {
   "codemirror_mode": {
    "name": "ipython",
    "version": 3
   },
   "file_extension": ".py",
   "mimetype": "text/x-python",
   "name": "python",
   "nbconvert_exporter": "python",
   "pygments_lexer": "ipython3",
   "version": "3.6.4"
  }
 },
 "nbformat": 4,
 "nbformat_minor": 2
}
