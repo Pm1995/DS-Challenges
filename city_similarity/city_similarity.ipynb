{
 "cells": [
  {
   "cell_type": "code",
   "execution_count": 64,
   "metadata": {},
   "outputs": [],
   "source": [
    "import pandas as pd\n",
    "import numpy as np\n",
    "import matplotlib.pyplot as plt\n",
    "import seaborn as sns\n",
    "import json\n",
    "from pprint import pprint"
   ]
  },
  {
   "cell_type": "code",
   "execution_count": 65,
   "metadata": {},
   "outputs": [],
   "source": [
    "with open('city_search.json') as data_file:    \n",
    "    data = json.load(data_file)"
   ]
  },
  {
   "cell_type": "code",
   "execution_count": 66,
   "metadata": {},
   "outputs": [],
   "source": [
    "df = pd.DataFrame(data)"
   ]
  },
  {
   "cell_type": "code",
   "execution_count": 67,
   "metadata": {},
   "outputs": [
    {
     "data": {
      "text/html": [
       "<div>\n",
       "<style scoped>\n",
       "    .dataframe tbody tr th:only-of-type {\n",
       "        vertical-align: middle;\n",
       "    }\n",
       "\n",
       "    .dataframe tbody tr th {\n",
       "        vertical-align: top;\n",
       "    }\n",
       "\n",
       "    .dataframe thead th {\n",
       "        text-align: right;\n",
       "    }\n",
       "</style>\n",
       "<table border=\"1\" class=\"dataframe\">\n",
       "  <thead>\n",
       "    <tr style=\"text-align: right;\">\n",
       "      <th></th>\n",
       "      <th>cities</th>\n",
       "      <th>session_id</th>\n",
       "      <th>unix_timestamp</th>\n",
       "      <th>user</th>\n",
       "    </tr>\n",
       "  </thead>\n",
       "  <tbody>\n",
       "    <tr>\n",
       "      <th>0</th>\n",
       "      <td>[New York NY, Newark NJ]</td>\n",
       "      <td>[X061RFWB06K9V]</td>\n",
       "      <td>[1442503708]</td>\n",
       "      <td>[[{'user_id': 2024, 'joining_date': '2015-03-2...</td>\n",
       "    </tr>\n",
       "    <tr>\n",
       "      <th>1</th>\n",
       "      <td>[New York NY, Jersey City NJ, Philadelphia PA]</td>\n",
       "      <td>[5AZ2X2A9BHH5U]</td>\n",
       "      <td>[1441353991]</td>\n",
       "      <td>[[{'user_id': 2853, 'joining_date': '2015-03-2...</td>\n",
       "    </tr>\n",
       "    <tr>\n",
       "      <th>2</th>\n",
       "      <td>[San Antonio TX]</td>\n",
       "      <td>[SHTB4IYAX4PX6]</td>\n",
       "      <td>[1440843490]</td>\n",
       "      <td>[[{'user_id': 10958, 'joining_date': '2015-03-...</td>\n",
       "    </tr>\n",
       "    <tr>\n",
       "      <th>3</th>\n",
       "      <td>[Edmonton AB]</td>\n",
       "      <td>[JBRB8MZGTX3M4]</td>\n",
       "      <td>[1427268063]</td>\n",
       "      <td>[[{'user_id': 7693, 'joining_date': '2015-03-1...</td>\n",
       "    </tr>\n",
       "    <tr>\n",
       "      <th>4</th>\n",
       "      <td>[Phoenix AZ, Houston TX]</td>\n",
       "      <td>[YJCMPURC2FL9C]</td>\n",
       "      <td>[1430559067]</td>\n",
       "      <td>[[{'user_id': 7506, 'joining_date': '2015-02-2...</td>\n",
       "    </tr>\n",
       "  </tbody>\n",
       "</table>\n",
       "</div>"
      ],
      "text/plain": [
       "                                           cities       session_id  \\\n",
       "0                        [New York NY, Newark NJ]  [X061RFWB06K9V]   \n",
       "1  [New York NY, Jersey City NJ, Philadelphia PA]  [5AZ2X2A9BHH5U]   \n",
       "2                                [San Antonio TX]  [SHTB4IYAX4PX6]   \n",
       "3                                   [Edmonton AB]  [JBRB8MZGTX3M4]   \n",
       "4                        [Phoenix AZ, Houston TX]  [YJCMPURC2FL9C]   \n",
       "\n",
       "  unix_timestamp                                               user  \n",
       "0   [1442503708]  [[{'user_id': 2024, 'joining_date': '2015-03-2...  \n",
       "1   [1441353991]  [[{'user_id': 2853, 'joining_date': '2015-03-2...  \n",
       "2   [1440843490]  [[{'user_id': 10958, 'joining_date': '2015-03-...  \n",
       "3   [1427268063]  [[{'user_id': 7693, 'joining_date': '2015-03-1...  \n",
       "4   [1430559067]  [[{'user_id': 7506, 'joining_date': '2015-02-2...  "
      ]
     },
     "execution_count": 67,
     "metadata": {},
     "output_type": "execute_result"
    }
   ],
   "source": [
    "df.head()"
   ]
  },
  {
   "cell_type": "markdown",
   "metadata": {},
   "source": [
    "data manipulation"
   ]
  },
  {
   "cell_type": "code",
   "execution_count": 101,
   "metadata": {},
   "outputs": [
    {
     "name": "stdout",
     "output_type": "stream",
     "text": [
      "<class 'list'>\n"
     ]
    }
   ],
   "source": [
    "print (type(df.loc[df.index[0], 'user']))"
   ]
  },
  {
   "cell_type": "code",
   "execution_count": 68,
   "metadata": {},
   "outputs": [],
   "source": [
    "df['user'] = df['user'].str.get(0)\n",
    "df['user']=df['user'].str.get(0)"
   ]
  },
  {
   "cell_type": "code",
   "execution_count": 6,
   "metadata": {},
   "outputs": [
    {
     "name": "stdout",
     "output_type": "stream",
     "text": [
      "<class 'dict'>\n"
     ]
    }
   ],
   "source": [
    "print (type(df.loc[df.index[0], 'user']))"
   ]
  },
  {
   "cell_type": "code",
   "execution_count": 69,
   "metadata": {},
   "outputs": [],
   "source": [
    "df=pd.concat([df.drop(['user'], axis=1), df['user'].apply(pd.Series)], axis=1)"
   ]
  },
  {
   "cell_type": "code",
   "execution_count": 7,
   "metadata": {},
   "outputs": [
    {
     "data": {
      "text/html": [
       "<div>\n",
       "<style scoped>\n",
       "    .dataframe tbody tr th:only-of-type {\n",
       "        vertical-align: middle;\n",
       "    }\n",
       "\n",
       "    .dataframe tbody tr th {\n",
       "        vertical-align: top;\n",
       "    }\n",
       "\n",
       "    .dataframe thead th {\n",
       "        text-align: right;\n",
       "    }\n",
       "</style>\n",
       "<table border=\"1\" class=\"dataframe\">\n",
       "  <thead>\n",
       "    <tr style=\"text-align: right;\">\n",
       "      <th></th>\n",
       "      <th>cities</th>\n",
       "      <th>session_id</th>\n",
       "      <th>unix_timestamp</th>\n",
       "      <th>_row</th>\n",
       "      <th>country</th>\n",
       "      <th>joining_date</th>\n",
       "      <th>user_id</th>\n",
       "    </tr>\n",
       "  </thead>\n",
       "  <tbody>\n",
       "    <tr>\n",
       "      <th>0</th>\n",
       "      <td>[New York NY, Newark NJ]</td>\n",
       "      <td>[X061RFWB06K9V]</td>\n",
       "      <td>[1442503708]</td>\n",
       "      <td>NaN</td>\n",
       "      <td>UK</td>\n",
       "      <td>2015-03-22</td>\n",
       "      <td>2024</td>\n",
       "    </tr>\n",
       "    <tr>\n",
       "      <th>1</th>\n",
       "      <td>[New York NY, Jersey City NJ, Philadelphia PA]</td>\n",
       "      <td>[5AZ2X2A9BHH5U]</td>\n",
       "      <td>[1441353991]</td>\n",
       "      <td>NaN</td>\n",
       "      <td>DE</td>\n",
       "      <td>2015-03-28</td>\n",
       "      <td>2853</td>\n",
       "    </tr>\n",
       "    <tr>\n",
       "      <th>2</th>\n",
       "      <td>[San Antonio TX]</td>\n",
       "      <td>[SHTB4IYAX4PX6]</td>\n",
       "      <td>[1440843490]</td>\n",
       "      <td>NaN</td>\n",
       "      <td>UK</td>\n",
       "      <td>2015-03-06</td>\n",
       "      <td>10958</td>\n",
       "    </tr>\n",
       "    <tr>\n",
       "      <th>3</th>\n",
       "      <td>[Edmonton AB]</td>\n",
       "      <td>[JBRB8MZGTX3M4]</td>\n",
       "      <td>[1427268063]</td>\n",
       "      <td>NaN</td>\n",
       "      <td>IT</td>\n",
       "      <td>2015-03-12</td>\n",
       "      <td>7693</td>\n",
       "    </tr>\n",
       "    <tr>\n",
       "      <th>4</th>\n",
       "      <td>[Phoenix AZ, Houston TX]</td>\n",
       "      <td>[YJCMPURC2FL9C]</td>\n",
       "      <td>[1430559067]</td>\n",
       "      <td>NaN</td>\n",
       "      <td>UK</td>\n",
       "      <td>2015-02-28</td>\n",
       "      <td>7506</td>\n",
       "    </tr>\n",
       "  </tbody>\n",
       "</table>\n",
       "</div>"
      ],
      "text/plain": [
       "                                           cities       session_id  \\\n",
       "0                        [New York NY, Newark NJ]  [X061RFWB06K9V]   \n",
       "1  [New York NY, Jersey City NJ, Philadelphia PA]  [5AZ2X2A9BHH5U]   \n",
       "2                                [San Antonio TX]  [SHTB4IYAX4PX6]   \n",
       "3                                   [Edmonton AB]  [JBRB8MZGTX3M4]   \n",
       "4                        [Phoenix AZ, Houston TX]  [YJCMPURC2FL9C]   \n",
       "\n",
       "  unix_timestamp _row country joining_date  user_id  \n",
       "0   [1442503708]  NaN      UK   2015-03-22     2024  \n",
       "1   [1441353991]  NaN      DE   2015-03-28     2853  \n",
       "2   [1440843490]  NaN      UK   2015-03-06    10958  \n",
       "3   [1427268063]  NaN      IT   2015-03-12     7693  \n",
       "4   [1430559067]  NaN      UK   2015-02-28     7506  "
      ]
     },
     "execution_count": 7,
     "metadata": {},
     "output_type": "execute_result"
    }
   ],
   "source": [
    "df.head()"
   ]
  },
  {
   "cell_type": "code",
   "execution_count": 70,
   "metadata": {},
   "outputs": [],
   "source": [
    "df=df.drop(['_row'], axis=1)"
   ]
  },
  {
   "cell_type": "code",
   "execution_count": 9,
   "metadata": {},
   "outputs": [
    {
     "data": {
      "text/html": [
       "<div>\n",
       "<style scoped>\n",
       "    .dataframe tbody tr th:only-of-type {\n",
       "        vertical-align: middle;\n",
       "    }\n",
       "\n",
       "    .dataframe tbody tr th {\n",
       "        vertical-align: top;\n",
       "    }\n",
       "\n",
       "    .dataframe thead th {\n",
       "        text-align: right;\n",
       "    }\n",
       "</style>\n",
       "<table border=\"1\" class=\"dataframe\">\n",
       "  <thead>\n",
       "    <tr style=\"text-align: right;\">\n",
       "      <th></th>\n",
       "      <th>cities</th>\n",
       "      <th>session_id</th>\n",
       "      <th>unix_timestamp</th>\n",
       "      <th>country</th>\n",
       "      <th>joining_date</th>\n",
       "      <th>user_id</th>\n",
       "    </tr>\n",
       "  </thead>\n",
       "  <tbody>\n",
       "    <tr>\n",
       "      <th>0</th>\n",
       "      <td>[New York NY, Newark NJ]</td>\n",
       "      <td>[X061RFWB06K9V]</td>\n",
       "      <td>[1442503708]</td>\n",
       "      <td>UK</td>\n",
       "      <td>2015-03-22</td>\n",
       "      <td>2024</td>\n",
       "    </tr>\n",
       "    <tr>\n",
       "      <th>1</th>\n",
       "      <td>[New York NY, Jersey City NJ, Philadelphia PA]</td>\n",
       "      <td>[5AZ2X2A9BHH5U]</td>\n",
       "      <td>[1441353991]</td>\n",
       "      <td>DE</td>\n",
       "      <td>2015-03-28</td>\n",
       "      <td>2853</td>\n",
       "    </tr>\n",
       "    <tr>\n",
       "      <th>2</th>\n",
       "      <td>[San Antonio TX]</td>\n",
       "      <td>[SHTB4IYAX4PX6]</td>\n",
       "      <td>[1440843490]</td>\n",
       "      <td>UK</td>\n",
       "      <td>2015-03-06</td>\n",
       "      <td>10958</td>\n",
       "    </tr>\n",
       "    <tr>\n",
       "      <th>3</th>\n",
       "      <td>[Edmonton AB]</td>\n",
       "      <td>[JBRB8MZGTX3M4]</td>\n",
       "      <td>[1427268063]</td>\n",
       "      <td>IT</td>\n",
       "      <td>2015-03-12</td>\n",
       "      <td>7693</td>\n",
       "    </tr>\n",
       "    <tr>\n",
       "      <th>4</th>\n",
       "      <td>[Phoenix AZ, Houston TX]</td>\n",
       "      <td>[YJCMPURC2FL9C]</td>\n",
       "      <td>[1430559067]</td>\n",
       "      <td>UK</td>\n",
       "      <td>2015-02-28</td>\n",
       "      <td>7506</td>\n",
       "    </tr>\n",
       "  </tbody>\n",
       "</table>\n",
       "</div>"
      ],
      "text/plain": [
       "                                           cities       session_id  \\\n",
       "0                        [New York NY, Newark NJ]  [X061RFWB06K9V]   \n",
       "1  [New York NY, Jersey City NJ, Philadelphia PA]  [5AZ2X2A9BHH5U]   \n",
       "2                                [San Antonio TX]  [SHTB4IYAX4PX6]   \n",
       "3                                   [Edmonton AB]  [JBRB8MZGTX3M4]   \n",
       "4                        [Phoenix AZ, Houston TX]  [YJCMPURC2FL9C]   \n",
       "\n",
       "  unix_timestamp country joining_date  user_id  \n",
       "0   [1442503708]      UK   2015-03-22     2024  \n",
       "1   [1441353991]      DE   2015-03-28     2853  \n",
       "2   [1440843490]      UK   2015-03-06    10958  \n",
       "3   [1427268063]      IT   2015-03-12     7693  \n",
       "4   [1430559067]      UK   2015-02-28     7506  "
      ]
     },
     "execution_count": 9,
     "metadata": {},
     "output_type": "execute_result"
    }
   ],
   "source": [
    "df.head()"
   ]
  },
  {
   "cell_type": "markdown",
   "metadata": {},
   "source": [
    "## 1. Which country is missing?"
   ]
  },
  {
   "cell_type": "code",
   "execution_count": 7,
   "metadata": {},
   "outputs": [
    {
     "data": {
      "text/html": [
       "<div>\n",
       "<style scoped>\n",
       "    .dataframe tbody tr th:only-of-type {\n",
       "        vertical-align: middle;\n",
       "    }\n",
       "\n",
       "    .dataframe tbody tr th {\n",
       "        vertical-align: top;\n",
       "    }\n",
       "\n",
       "    .dataframe thead th {\n",
       "        text-align: right;\n",
       "    }\n",
       "</style>\n",
       "<table border=\"1\" class=\"dataframe\">\n",
       "  <thead>\n",
       "    <tr style=\"text-align: right;\">\n",
       "      <th></th>\n",
       "      <th>country</th>\n",
       "      <th>cities</th>\n",
       "    </tr>\n",
       "  </thead>\n",
       "  <tbody>\n",
       "    <tr>\n",
       "      <th>0</th>\n",
       "      <td></td>\n",
       "      <td>2820</td>\n",
       "    </tr>\n",
       "    <tr>\n",
       "      <th>1</th>\n",
       "      <td>DE</td>\n",
       "      <td>3638</td>\n",
       "    </tr>\n",
       "    <tr>\n",
       "      <th>2</th>\n",
       "      <td>ES</td>\n",
       "      <td>1953</td>\n",
       "    </tr>\n",
       "    <tr>\n",
       "      <th>3</th>\n",
       "      <td>FR</td>\n",
       "      <td>2298</td>\n",
       "    </tr>\n",
       "    <tr>\n",
       "      <th>4</th>\n",
       "      <td>IT</td>\n",
       "      <td>1882</td>\n",
       "    </tr>\n",
       "  </tbody>\n",
       "</table>\n",
       "</div>"
      ],
      "text/plain": [
       "  country  cities\n",
       "0            2820\n",
       "1      DE    3638\n",
       "2      ES    1953\n",
       "3      FR    2298\n",
       "4      IT    1882"
      ]
     },
     "execution_count": 7,
     "metadata": {},
     "output_type": "execute_result"
    }
   ],
   "source": [
    "df.groupby('country')['cities'].count().reset_index().head()"
   ]
  },
  {
   "cell_type": "code",
   "execution_count": 11,
   "metadata": {},
   "outputs": [],
   "source": [
    "#df['cities'] = df['cities'].str.get(0)"
   ]
  },
  {
   "cell_type": "code",
   "execution_count": 46,
   "metadata": {},
   "outputs": [],
   "source": [
    "#pd.crosstab(index=df[\"cities\"],columns=df[\"country\"]).head()"
   ]
  },
  {
   "cell_type": "code",
   "execution_count": 47,
   "metadata": {},
   "outputs": [],
   "source": [
    "#pd.crosstab(index=df[\"country\"],columns=df[\"cities\"])"
   ]
  },
  {
   "cell_type": "code",
   "execution_count": 71,
   "metadata": {},
   "outputs": [],
   "source": [
    "#get time\n",
    "import datetime\n",
    "df['Time'] = df['unix_timestamp'].apply(lambda x: datetime.datetime.fromtimestamp(int(x[0])).strftime('%Y-%m-%d %H:%M:%S'))\n",
    "df=df.drop(['unix_timestamp'], axis=1)"
   ]
  },
  {
   "cell_type": "code",
   "execution_count": 72,
   "metadata": {},
   "outputs": [
    {
     "name": "stderr",
     "output_type": "stream",
     "text": [
      "C:\\Users\\Pranay\\Anaconda3\\lib\\site-packages\\ipykernel_launcher.py:3: DeprecationWarning: \n",
      ".ix is deprecated. Please use\n",
      ".loc for label based indexing or\n",
      ".iloc for positional indexing\n",
      "\n",
      "See the documentation here:\n",
      "http://pandas.pydata.org/pandas-docs/stable/indexing.html#ix-indexer-is-deprecated\n",
      "  This is separate from the ipykernel package so we can avoid doing imports until\n"
     ]
    }
   ],
   "source": [
    "#getting hours, minutes, seconds.....\n",
    "df[\"Time\"] = pd.to_datetime(df[\"Time\"] )\n",
    "column=df.ix[:,5]\n",
    "feature_col1=pd.DataFrame({\n",
    "              \"month_clicked\": column.dt.month,\n",
    "              \"day_clicked\": column.dt.day,\n",
    "              \"dayofyear_clicked\": column.dt.dayofyear,\n",
    "            \"hour_clicked\":column.dt.hour,\n",
    "             \"minute_clicked\":column.dt.minute,\n",
    "             \"second_clicked\":column.dt.second\n",
    "             })\n",
    "df=pd.concat([df,feature_col1], axis=1)"
   ]
  },
  {
   "cell_type": "code",
   "execution_count": 73,
   "metadata": {},
   "outputs": [],
   "source": [
    "#countriwise distribution\n",
    "def country_vise(data,country):\n",
    "    newd=df[df[\"country\"]==country]\n",
    "    newd.hist(column=\"hour_clicked\")"
   ]
  },
  {
   "cell_type": "code",
   "execution_count": 59,
   "metadata": {},
   "outputs": [
    {
     "data": {
      "text/plain": [
       "Text(0.5,0,'missing')"
      ]
     },
     "execution_count": 59,
     "metadata": {},
     "output_type": "execute_result"
    },
    {
     "data": {
      "image/png": "[encoded data removed]",
      "text/plain": [
       "<matplotlib.figure.Figure at 0x267922ed128>"
      ]
     },
     "metadata": {},
     "output_type": "display_data"
    },
    {
     "data": {
      "image/png": "[encoded data removed]",
      "text/plain": [
       "<matplotlib.figure.Figure at 0x26792205668>"
      ]
     },
     "metadata": {},
     "output_type": "display_data"
    },
    {
     "data": {
      "image/png": "[encoded data removed]",
      "text/plain": [
       "<matplotlib.figure.Figure at 0x267920ba9e8>"
      ]
     },
     "metadata": {},
     "output_type": "display_data"
    },
    {
     "data": {
      "image/png": "[encoded data removed]",
      "text/plain": [
       "<matplotlib.figure.Figure at 0x267920470b8>"
      ]
     },
     "metadata": {},
     "output_type": "display_data"
    },
    {
     "data": {
      "image/png": "[encoded data removed]",
      "text/plain": [
       "<matplotlib.figure.Figure at 0x26791d9aeb8>"
      ]
     },
     "metadata": {},
     "output_type": "display_data"
    },
    {
     "data": {
      "image/png": "[encoded data removed]",
      "text/plain": [
       "<matplotlib.figure.Figure at 0x26791ba02e8>"
      ]
     },
     "metadata": {},
     "output_type": "display_data"
    },
    {
     "data": {
      "image/png": "[encoded data removed]",
      "text/plain": [
       "<matplotlib.figure.Figure at 0x267919d8ba8>"
      ]
     },
     "metadata": {},
     "output_type": "display_data"
    }
   ],
   "source": [
    "country_vise(df,\"UK\")\n",
    "plt.xlabel('Uk')\n",
    "country_vise(df,\"DE\")\n",
    "plt.xlabel('DE')\n",
    "country_vise(df,\"US\")\n",
    "plt.xlabel('US')\n",
    "country_vise(df,\"IT\")\n",
    "plt.xlabel('IT')\n",
    "country_vise(df,\"ES\")\n",
    "plt.xlabel('ES')\n",
    "country_vise(df,\"FR\")\n",
    "plt.xlabel('FR')\n",
    "country_vise(df,\"\" \"\")\n",
    "plt.xlabel('missing')"
   ]
  },
  {
   "cell_type": "markdown",
   "metadata": {},
   "source": [
    "Based on the skewed distribution compared to western countries, seems to be a country in asia. "
   ]
  },
  {
   "cell_type": "markdown",
   "metadata": {},
   "source": [
    "# Most likely city to be searched within same session "
   ]
  },
  {
   "cell_type": "code",
   "execution_count": 74,
   "metadata": {},
   "outputs": [
    {
     "data": {
      "text/html": [
       "<div>\n",
       "<style scoped>\n",
       "    .dataframe tbody tr th:only-of-type {\n",
       "        vertical-align: middle;\n",
       "    }\n",
       "\n",
       "    .dataframe tbody tr th {\n",
       "        vertical-align: top;\n",
       "    }\n",
       "\n",
       "    .dataframe thead th {\n",
       "        text-align: right;\n",
       "    }\n",
       "</style>\n",
       "<table border=\"1\" class=\"dataframe\">\n",
       "  <thead>\n",
       "    <tr style=\"text-align: right;\">\n",
       "      <th></th>\n",
       "      <th>cities</th>\n",
       "      <th>session_id</th>\n",
       "      <th>country</th>\n",
       "      <th>joining_date</th>\n",
       "      <th>user_id</th>\n",
       "      <th>Time</th>\n",
       "      <th>day_clicked</th>\n",
       "      <th>dayofyear_clicked</th>\n",
       "      <th>hour_clicked</th>\n",
       "      <th>minute_clicked</th>\n",
       "      <th>month_clicked</th>\n",
       "      <th>second_clicked</th>\n",
       "    </tr>\n",
       "  </thead>\n",
       "  <tbody>\n",
       "    <tr>\n",
       "      <th>0</th>\n",
       "      <td>[New York NY, Newark NJ]</td>\n",
       "      <td>[X061RFWB06K9V]</td>\n",
       "      <td>UK</td>\n",
       "      <td>2015-03-22</td>\n",
       "      <td>2024</td>\n",
       "      <td>2015-09-17 11:28:28</td>\n",
       "      <td>17</td>\n",
       "      <td>260</td>\n",
       "      <td>11</td>\n",
       "      <td>28</td>\n",
       "      <td>9</td>\n",
       "      <td>28</td>\n",
       "    </tr>\n",
       "    <tr>\n",
       "      <th>1</th>\n",
       "      <td>[New York NY, Jersey City NJ, Philadelphia PA]</td>\n",
       "      <td>[5AZ2X2A9BHH5U]</td>\n",
       "      <td>DE</td>\n",
       "      <td>2015-03-28</td>\n",
       "      <td>2853</td>\n",
       "      <td>2015-09-04 04:06:31</td>\n",
       "      <td>4</td>\n",
       "      <td>247</td>\n",
       "      <td>4</td>\n",
       "      <td>6</td>\n",
       "      <td>9</td>\n",
       "      <td>31</td>\n",
       "    </tr>\n",
       "    <tr>\n",
       "      <th>2</th>\n",
       "      <td>[San Antonio TX]</td>\n",
       "      <td>[SHTB4IYAX4PX6]</td>\n",
       "      <td>UK</td>\n",
       "      <td>2015-03-06</td>\n",
       "      <td>10958</td>\n",
       "      <td>2015-08-29 06:18:10</td>\n",
       "      <td>29</td>\n",
       "      <td>241</td>\n",
       "      <td>6</td>\n",
       "      <td>18</td>\n",
       "      <td>8</td>\n",
       "      <td>10</td>\n",
       "    </tr>\n",
       "    <tr>\n",
       "      <th>3</th>\n",
       "      <td>[Edmonton AB]</td>\n",
       "      <td>[JBRB8MZGTX3M4]</td>\n",
       "      <td>IT</td>\n",
       "      <td>2015-03-12</td>\n",
       "      <td>7693</td>\n",
       "      <td>2015-03-25 03:21:03</td>\n",
       "      <td>25</td>\n",
       "      <td>84</td>\n",
       "      <td>3</td>\n",
       "      <td>21</td>\n",
       "      <td>3</td>\n",
       "      <td>3</td>\n",
       "    </tr>\n",
       "    <tr>\n",
       "      <th>4</th>\n",
       "      <td>[Phoenix AZ, Houston TX]</td>\n",
       "      <td>[YJCMPURC2FL9C]</td>\n",
       "      <td>UK</td>\n",
       "      <td>2015-02-28</td>\n",
       "      <td>7506</td>\n",
       "      <td>2015-05-02 05:31:07</td>\n",
       "      <td>2</td>\n",
       "      <td>122</td>\n",
       "      <td>5</td>\n",
       "      <td>31</td>\n",
       "      <td>5</td>\n",
       "      <td>7</td>\n",
       "    </tr>\n",
       "  </tbody>\n",
       "</table>\n",
       "</div>"
      ],
      "text/plain": [
       "                                           cities       session_id country  \\\n",
       "0                        [New York NY, Newark NJ]  [X061RFWB06K9V]      UK   \n",
       "1  [New York NY, Jersey City NJ, Philadelphia PA]  [5AZ2X2A9BHH5U]      DE   \n",
       "2                                [San Antonio TX]  [SHTB4IYAX4PX6]      UK   \n",
       "3                                   [Edmonton AB]  [JBRB8MZGTX3M4]      IT   \n",
       "4                        [Phoenix AZ, Houston TX]  [YJCMPURC2FL9C]      UK   \n",
       "\n",
       "  joining_date  user_id                Time  day_clicked  dayofyear_clicked  \\\n",
       "0   2015-03-22     2024 2015-09-17 11:28:28           17                260   \n",
       "1   2015-03-28     2853 2015-09-04 04:06:31            4                247   \n",
       "2   2015-03-06    10958 2015-08-29 06:18:10           29                241   \n",
       "3   2015-03-12     7693 2015-03-25 03:21:03           25                 84   \n",
       "4   2015-02-28     7506 2015-05-02 05:31:07            2                122   \n",
       "\n",
       "   hour_clicked  minute_clicked  month_clicked  second_clicked  \n",
       "0            11              28              9              28  \n",
       "1             4               6              9              31  \n",
       "2             6              18              8              10  \n",
       "3             3              21              3               3  \n",
       "4             5              31              5               7  "
      ]
     },
     "execution_count": 74,
     "metadata": {},
     "output_type": "execute_result"
    }
   ],
   "source": [
    "df.head()"
   ]
  },
  {
   "cell_type": "code",
   "execution_count": 75,
   "metadata": {},
   "outputs": [],
   "source": [
    "#removing squared brackets from cities\n",
    "df['cities']=df['cities'].str.get(0)"
   ]
  },
  {
   "cell_type": "code",
   "execution_count": 76,
   "metadata": {},
   "outputs": [],
   "source": [
    "#split 'cities' column to multiple columns \n",
    "new=df.cities.str.split(\",\", expand=True)\n",
    "df_new = pd.concat([df,new], axis=1)"
   ]
  },
  {
   "cell_type": "code",
   "execution_count": 77,
   "metadata": {},
   "outputs": [
    {
     "data": {
      "text/html": [
       "<div>\n",
       "<style scoped>\n",
       "    .dataframe tbody tr th:only-of-type {\n",
       "        vertical-align: middle;\n",
       "    }\n",
       "\n",
       "    .dataframe tbody tr th {\n",
       "        vertical-align: top;\n",
       "    }\n",
       "\n",
       "    .dataframe thead th {\n",
       "        text-align: right;\n",
       "    }\n",
       "</style>\n",
       "<table border=\"1\" class=\"dataframe\">\n",
       "  <thead>\n",
       "    <tr style=\"text-align: right;\">\n",
       "      <th></th>\n",
       "      <th>cities</th>\n",
       "      <th>session_id</th>\n",
       "      <th>country</th>\n",
       "      <th>joining_date</th>\n",
       "      <th>user_id</th>\n",
       "      <th>Time</th>\n",
       "      <th>day_clicked</th>\n",
       "      <th>dayofyear_clicked</th>\n",
       "      <th>hour_clicked</th>\n",
       "      <th>minute_clicked</th>\n",
       "      <th>...</th>\n",
       "      <th>1</th>\n",
       "      <th>2</th>\n",
       "      <th>3</th>\n",
       "      <th>4</th>\n",
       "      <th>5</th>\n",
       "      <th>6</th>\n",
       "      <th>7</th>\n",
       "      <th>8</th>\n",
       "      <th>9</th>\n",
       "      <th>10</th>\n",
       "    </tr>\n",
       "  </thead>\n",
       "  <tbody>\n",
       "    <tr>\n",
       "      <th>0</th>\n",
       "      <td>New York NY, Newark NJ</td>\n",
       "      <td>[X061RFWB06K9V]</td>\n",
       "      <td>UK</td>\n",
       "      <td>2015-03-22</td>\n",
       "      <td>2024</td>\n",
       "      <td>2015-09-17 11:28:28</td>\n",
       "      <td>17</td>\n",
       "      <td>260</td>\n",
       "      <td>11</td>\n",
       "      <td>28</td>\n",
       "      <td>...</td>\n",
       "      <td>Newark NJ</td>\n",
       "      <td>None</td>\n",
       "      <td>None</td>\n",
       "      <td>None</td>\n",
       "      <td>None</td>\n",
       "      <td>None</td>\n",
       "      <td>None</td>\n",
       "      <td>None</td>\n",
       "      <td>None</td>\n",
       "      <td>None</td>\n",
       "    </tr>\n",
       "    <tr>\n",
       "      <th>1</th>\n",
       "      <td>New York NY, Jersey City NJ, Philadelphia PA</td>\n",
       "      <td>[5AZ2X2A9BHH5U]</td>\n",
       "      <td>DE</td>\n",
       "      <td>2015-03-28</td>\n",
       "      <td>2853</td>\n",
       "      <td>2015-09-04 04:06:31</td>\n",
       "      <td>4</td>\n",
       "      <td>247</td>\n",
       "      <td>4</td>\n",
       "      <td>6</td>\n",
       "      <td>...</td>\n",
       "      <td>Jersey City NJ</td>\n",
       "      <td>Philadelphia PA</td>\n",
       "      <td>None</td>\n",
       "      <td>None</td>\n",
       "      <td>None</td>\n",
       "      <td>None</td>\n",
       "      <td>None</td>\n",
       "      <td>None</td>\n",
       "      <td>None</td>\n",
       "      <td>None</td>\n",
       "    </tr>\n",
       "    <tr>\n",
       "      <th>2</th>\n",
       "      <td>San Antonio TX</td>\n",
       "      <td>[SHTB4IYAX4PX6]</td>\n",
       "      <td>UK</td>\n",
       "      <td>2015-03-06</td>\n",
       "      <td>10958</td>\n",
       "      <td>2015-08-29 06:18:10</td>\n",
       "      <td>29</td>\n",
       "      <td>241</td>\n",
       "      <td>6</td>\n",
       "      <td>18</td>\n",
       "      <td>...</td>\n",
       "      <td>None</td>\n",
       "      <td>None</td>\n",
       "      <td>None</td>\n",
       "      <td>None</td>\n",
       "      <td>None</td>\n",
       "      <td>None</td>\n",
       "      <td>None</td>\n",
       "      <td>None</td>\n",
       "      <td>None</td>\n",
       "      <td>None</td>\n",
       "    </tr>\n",
       "    <tr>\n",
       "      <th>3</th>\n",
       "      <td>Edmonton AB</td>\n",
       "      <td>[JBRB8MZGTX3M4]</td>\n",
       "      <td>IT</td>\n",
       "      <td>2015-03-12</td>\n",
       "      <td>7693</td>\n",
       "      <td>2015-03-25 03:21:03</td>\n",
       "      <td>25</td>\n",
       "      <td>84</td>\n",
       "      <td>3</td>\n",
       "      <td>21</td>\n",
       "      <td>...</td>\n",
       "      <td>None</td>\n",
       "      <td>None</td>\n",
       "      <td>None</td>\n",
       "      <td>None</td>\n",
       "      <td>None</td>\n",
       "      <td>None</td>\n",
       "      <td>None</td>\n",
       "      <td>None</td>\n",
       "      <td>None</td>\n",
       "      <td>None</td>\n",
       "    </tr>\n",
       "    <tr>\n",
       "      <th>4</th>\n",
       "      <td>Phoenix AZ, Houston TX</td>\n",
       "      <td>[YJCMPURC2FL9C]</td>\n",
       "      <td>UK</td>\n",
       "      <td>2015-02-28</td>\n",
       "      <td>7506</td>\n",
       "      <td>2015-05-02 05:31:07</td>\n",
       "      <td>2</td>\n",
       "      <td>122</td>\n",
       "      <td>5</td>\n",
       "      <td>31</td>\n",
       "      <td>...</td>\n",
       "      <td>Houston TX</td>\n",
       "      <td>None</td>\n",
       "      <td>None</td>\n",
       "      <td>None</td>\n",
       "      <td>None</td>\n",
       "      <td>None</td>\n",
       "      <td>None</td>\n",
       "      <td>None</td>\n",
       "      <td>None</td>\n",
       "      <td>None</td>\n",
       "    </tr>\n",
       "  </tbody>\n",
       "</table>\n",
       "<p>5 rows × 23 columns</p>\n",
       "</div>"
      ],
      "text/plain": [
       "                                         cities       session_id country  \\\n",
       "0                        New York NY, Newark NJ  [X061RFWB06K9V]      UK   \n",
       "1  New York NY, Jersey City NJ, Philadelphia PA  [5AZ2X2A9BHH5U]      DE   \n",
       "2                                San Antonio TX  [SHTB4IYAX4PX6]      UK   \n",
       "3                                   Edmonton AB  [JBRB8MZGTX3M4]      IT   \n",
       "4                        Phoenix AZ, Houston TX  [YJCMPURC2FL9C]      UK   \n",
       "\n",
       "  joining_date  user_id                Time  day_clicked  dayofyear_clicked  \\\n",
       "0   2015-03-22     2024 2015-09-17 11:28:28           17                260   \n",
       "1   2015-03-28     2853 2015-09-04 04:06:31            4                247   \n",
       "2   2015-03-06    10958 2015-08-29 06:18:10           29                241   \n",
       "3   2015-03-12     7693 2015-03-25 03:21:03           25                 84   \n",
       "4   2015-02-28     7506 2015-05-02 05:31:07            2                122   \n",
       "\n",
       "   hour_clicked  minute_clicked  ...                 1                 2  \\\n",
       "0            11              28  ...         Newark NJ              None   \n",
       "1             4               6  ...    Jersey City NJ   Philadelphia PA   \n",
       "2             6              18  ...              None              None   \n",
       "3             3              21  ...              None              None   \n",
       "4             5              31  ...        Houston TX              None   \n",
       "\n",
       "      3     4     5     6     7     8     9    10  \n",
       "0  None  None  None  None  None  None  None  None  \n",
       "1  None  None  None  None  None  None  None  None  \n",
       "2  None  None  None  None  None  None  None  None  \n",
       "3  None  None  None  None  None  None  None  None  \n",
       "4  None  None  None  None  None  None  None  None  \n",
       "\n",
       "[5 rows x 23 columns]"
      ]
     },
     "execution_count": 77,
     "metadata": {},
     "output_type": "execute_result"
    }
   ],
   "source": [
    "df_new.head()"
   ]
  },
  {
   "cell_type": "markdown",
   "metadata": {},
   "source": [
    "Item based collaborative filtering"
   ]
  },
  {
   "cell_type": "code",
   "execution_count": 16,
   "metadata": {},
   "outputs": [],
   "source": [
    "from scipy.spatial.distance import cosine\n",
    "def filfunc(dataframe,colname):\n",
    "    data=pd.crosstab(index=dataframe[\"user_id\"],columns=dataframe[colname]).reset_index()\n",
    "    data_withoutUser = data.drop('user_id', 1)\n",
    "    data_ibs = pd.DataFrame(index=data_withoutUser.columns,columns=data_withoutUser.columns)\n",
    "    for i in range(0,len(data_ibs.columns)) :\n",
    "        for j in range(0,len(data_ibs.columns)) :\n",
    "            data_ibs.ix[i,j] = 1-cosine(data_withoutUser.ix[:,i],data_withoutUser.ix[:,j])\n",
    "    # Create a placeholder items for closes neighbours to an item\n",
    "    data_neighbours = pd.DataFrame(index=data_ibs.columns,columns=range(1,11))\n",
    "    for i in range(0,len(data_ibs.columns)):\n",
    "        data_neighbours.ix[i,:10] = data_ibs.ix[0:,i].sort_values(ascending=False)[:10].index\n",
    "    return data_neighbours.head(6).ix[:6,2:4]   "
   ]
  },
  {
   "cell_type": "code",
   "execution_count": 51,
   "metadata": {},
   "outputs": [
    {
     "name": "stderr",
     "output_type": "stream",
     "text": [
      "C:\\Users\\Pranay\\Anaconda3\\lib\\site-packages\\ipykernel_launcher.py:8: DeprecationWarning: \n",
      ".ix is deprecated. Please use\n",
      ".loc for label based indexing or\n",
      ".iloc for positional indexing\n",
      "\n",
      "See the documentation here:\n",
      "http://pandas.pydata.org/pandas-docs/stable/indexing.html#ix-indexer-is-deprecated\n",
      "  \n",
      "C:\\Users\\Pranay\\Anaconda3\\lib\\site-packages\\ipykernel_launcher.py:12: DeprecationWarning: \n",
      ".ix is deprecated. Please use\n",
      ".loc for label based indexing or\n",
      ".iloc for positional indexing\n",
      "\n",
      "See the documentation here:\n",
      "http://pandas.pydata.org/pandas-docs/stable/indexing.html#ix-indexer-is-deprecated\n",
      "  if sys.path[0] == '':\n",
      "C:\\Users\\Pranay\\Anaconda3\\lib\\site-packages\\ipykernel_launcher.py:13: DeprecationWarning: \n",
      ".ix is deprecated. Please use\n",
      ".loc for label based indexing or\n",
      ".iloc for positional indexing\n",
      "\n",
      "See the documentation here:\n",
      "http://pandas.pydata.org/pandas-docs/stable/indexing.html#ix-indexer-is-deprecated\n",
      "  del sys.path[0]\n"
     ]
    },
    {
     "data": {
      "text/html": [
       "<div>\n",
       "<style scoped>\n",
       "    .dataframe tbody tr th:only-of-type {\n",
       "        vertical-align: middle;\n",
       "    }\n",
       "\n",
       "    .dataframe tbody tr th {\n",
       "        vertical-align: top;\n",
       "    }\n",
       "\n",
       "    .dataframe thead th {\n",
       "        text-align: right;\n",
       "    }\n",
       "</style>\n",
       "<table border=\"1\" class=\"dataframe\">\n",
       "  <thead>\n",
       "    <tr style=\"text-align: right;\">\n",
       "      <th></th>\n",
       "      <th>2</th>\n",
       "      <th>3</th>\n",
       "      <th>4</th>\n",
       "    </tr>\n",
       "    <tr>\n",
       "      <th>1</th>\n",
       "      <th></th>\n",
       "      <th></th>\n",
       "      <th></th>\n",
       "    </tr>\n",
       "  </thead>\n",
       "  <tbody>\n",
       "    <tr>\n",
       "      <th>Anaheim CA</th>\n",
       "      <td>Montreal QC</td>\n",
       "      <td>Toronto ON</td>\n",
       "      <td>New York NY</td>\n",
       "    </tr>\n",
       "    <tr>\n",
       "      <th>Arlington TX</th>\n",
       "      <td>Sacramento CA</td>\n",
       "      <td>Jersey City NJ</td>\n",
       "      <td>Los Angeles CA</td>\n",
       "    </tr>\n",
       "    <tr>\n",
       "      <th>Atlanta GA</th>\n",
       "      <td>Madison WI</td>\n",
       "      <td>Oshawa ON</td>\n",
       "      <td>Buffalo NY</td>\n",
       "    </tr>\n",
       "    <tr>\n",
       "      <th>Austin TX</th>\n",
       "      <td>Toronto ON</td>\n",
       "      <td>Seattle WA</td>\n",
       "      <td>New York NY</td>\n",
       "    </tr>\n",
       "    <tr>\n",
       "      <th>Bakersfield CA</th>\n",
       "      <td>New York NY</td>\n",
       "      <td>Boston MA</td>\n",
       "      <td>Los Angeles CA</td>\n",
       "    </tr>\n",
       "    <tr>\n",
       "      <th>Baltimore MD</th>\n",
       "      <td>New York NY</td>\n",
       "      <td>Sacramento CA</td>\n",
       "      <td>Toronto ON</td>\n",
       "    </tr>\n",
       "  </tbody>\n",
       "</table>\n",
       "</div>"
      ],
      "text/plain": [
       "                              2                3                4\n",
       "1                                                                \n",
       " Anaheim CA         Montreal QC       Toronto ON      New York NY\n",
       " Arlington TX     Sacramento CA   Jersey City NJ   Los Angeles CA\n",
       " Atlanta GA          Madison WI        Oshawa ON       Buffalo NY\n",
       " Austin TX           Toronto ON       Seattle WA      New York NY\n",
       " Bakersfield CA     New York NY        Boston MA   Los Angeles CA\n",
       " Baltimore MD       New York NY    Sacramento CA       Toronto ON"
      ]
     },
     "execution_count": 51,
     "metadata": {},
     "output_type": "execute_result"
    }
   ],
   "source": [
    "filfunc(df_new,1)"
   ]
  },
  {
   "cell_type": "code",
   "execution_count": 52,
   "metadata": {},
   "outputs": [
    {
     "name": "stderr",
     "output_type": "stream",
     "text": [
      "C:\\Users\\Pranay\\Anaconda3\\lib\\site-packages\\ipykernel_launcher.py:8: DeprecationWarning: \n",
      ".ix is deprecated. Please use\n",
      ".loc for label based indexing or\n",
      ".iloc for positional indexing\n",
      "\n",
      "See the documentation here:\n",
      "http://pandas.pydata.org/pandas-docs/stable/indexing.html#ix-indexer-is-deprecated\n",
      "  \n",
      "C:\\Users\\Pranay\\Anaconda3\\lib\\site-packages\\ipykernel_launcher.py:12: DeprecationWarning: \n",
      ".ix is deprecated. Please use\n",
      ".loc for label based indexing or\n",
      ".iloc for positional indexing\n",
      "\n",
      "See the documentation here:\n",
      "http://pandas.pydata.org/pandas-docs/stable/indexing.html#ix-indexer-is-deprecated\n",
      "  if sys.path[0] == '':\n",
      "C:\\Users\\Pranay\\Anaconda3\\lib\\site-packages\\ipykernel_launcher.py:13: DeprecationWarning: \n",
      ".ix is deprecated. Please use\n",
      ".loc for label based indexing or\n",
      ".iloc for positional indexing\n",
      "\n",
      "See the documentation here:\n",
      "http://pandas.pydata.org/pandas-docs/stable/indexing.html#ix-indexer-is-deprecated\n",
      "  del sys.path[0]\n"
     ]
    },
    {
     "data": {
      "text/html": [
       "<div>\n",
       "<style scoped>\n",
       "    .dataframe tbody tr th:only-of-type {\n",
       "        vertical-align: middle;\n",
       "    }\n",
       "\n",
       "    .dataframe tbody tr th {\n",
       "        vertical-align: top;\n",
       "    }\n",
       "\n",
       "    .dataframe thead th {\n",
       "        text-align: right;\n",
       "    }\n",
       "</style>\n",
       "<table border=\"1\" class=\"dataframe\">\n",
       "  <thead>\n",
       "    <tr style=\"text-align: right;\">\n",
       "      <th></th>\n",
       "      <th>2</th>\n",
       "      <th>3</th>\n",
       "      <th>4</th>\n",
       "    </tr>\n",
       "    <tr>\n",
       "      <th>2</th>\n",
       "      <th></th>\n",
       "      <th></th>\n",
       "      <th></th>\n",
       "    </tr>\n",
       "  </thead>\n",
       "  <tbody>\n",
       "    <tr>\n",
       "      <th>Anaheim CA</th>\n",
       "      <td>Chicago IL</td>\n",
       "      <td>Vancouver BC</td>\n",
       "      <td>Hialeah FL</td>\n",
       "    </tr>\n",
       "    <tr>\n",
       "      <th>Arlington TX</th>\n",
       "      <td>Hamilton ON</td>\n",
       "      <td>Chandler AZ</td>\n",
       "      <td>Lexington KY</td>\n",
       "    </tr>\n",
       "    <tr>\n",
       "      <th>Atlanta GA</th>\n",
       "      <td>Scottsdale AZ</td>\n",
       "      <td>Windsor ON</td>\n",
       "      <td>Houston TX</td>\n",
       "    </tr>\n",
       "    <tr>\n",
       "      <th>Austin TX</th>\n",
       "      <td>Boston MA</td>\n",
       "      <td>London ON</td>\n",
       "      <td>Vancouver BC</td>\n",
       "    </tr>\n",
       "    <tr>\n",
       "      <th>Baltimore MD</th>\n",
       "      <td>Columbus OH</td>\n",
       "      <td>Sacramento CA</td>\n",
       "      <td>Toronto ON</td>\n",
       "    </tr>\n",
       "    <tr>\n",
       "      <th>Birmingham AL</th>\n",
       "      <td>Lexington KY</td>\n",
       "      <td>Milwaukee WI</td>\n",
       "      <td>Indianapolis IN</td>\n",
       "    </tr>\n",
       "  </tbody>\n",
       "</table>\n",
       "</div>"
      ],
      "text/plain": [
       "                             2               3                 4\n",
       "2                                                               \n",
       " Anaheim CA         Chicago IL    Vancouver BC        Hialeah FL\n",
       " Arlington TX      Hamilton ON     Chandler AZ      Lexington KY\n",
       " Atlanta GA      Scottsdale AZ      Windsor ON        Houston TX\n",
       " Austin TX           Boston MA       London ON      Vancouver BC\n",
       " Baltimore MD      Columbus OH   Sacramento CA        Toronto ON\n",
       " Birmingham AL    Lexington KY    Milwaukee WI   Indianapolis IN"
      ]
     },
     "execution_count": 52,
     "metadata": {},
     "output_type": "execute_result"
    }
   ],
   "source": [
    "filfunc(df_new,2)"
   ]
  },
  {
   "cell_type": "code",
   "execution_count": 53,
   "metadata": {},
   "outputs": [
    {
     "name": "stderr",
     "output_type": "stream",
     "text": [
      "C:\\Users\\Pranay\\Anaconda3\\lib\\site-packages\\ipykernel_launcher.py:8: DeprecationWarning: \n",
      ".ix is deprecated. Please use\n",
      ".loc for label based indexing or\n",
      ".iloc for positional indexing\n",
      "\n",
      "See the documentation here:\n",
      "http://pandas.pydata.org/pandas-docs/stable/indexing.html#ix-indexer-is-deprecated\n",
      "  \n",
      "C:\\Users\\Pranay\\Anaconda3\\lib\\site-packages\\ipykernel_launcher.py:12: DeprecationWarning: \n",
      ".ix is deprecated. Please use\n",
      ".loc for label based indexing or\n",
      ".iloc for positional indexing\n",
      "\n",
      "See the documentation here:\n",
      "http://pandas.pydata.org/pandas-docs/stable/indexing.html#ix-indexer-is-deprecated\n",
      "  if sys.path[0] == '':\n",
      "C:\\Users\\Pranay\\Anaconda3\\lib\\site-packages\\ipykernel_launcher.py:13: DeprecationWarning: \n",
      ".ix is deprecated. Please use\n",
      ".loc for label based indexing or\n",
      ".iloc for positional indexing\n",
      "\n",
      "See the documentation here:\n",
      "http://pandas.pydata.org/pandas-docs/stable/indexing.html#ix-indexer-is-deprecated\n",
      "  del sys.path[0]\n"
     ]
    },
    {
     "data": {
      "text/html": [
       "<div>\n",
       "<style scoped>\n",
       "    .dataframe tbody tr th:only-of-type {\n",
       "        vertical-align: middle;\n",
       "    }\n",
       "\n",
       "    .dataframe tbody tr th {\n",
       "        vertical-align: top;\n",
       "    }\n",
       "\n",
       "    .dataframe thead th {\n",
       "        text-align: right;\n",
       "    }\n",
       "</style>\n",
       "<table border=\"1\" class=\"dataframe\">\n",
       "  <thead>\n",
       "    <tr style=\"text-align: right;\">\n",
       "      <th></th>\n",
       "      <th>2</th>\n",
       "      <th>3</th>\n",
       "      <th>4</th>\n",
       "    </tr>\n",
       "    <tr>\n",
       "      <th>3</th>\n",
       "      <th></th>\n",
       "      <th></th>\n",
       "      <th></th>\n",
       "    </tr>\n",
       "  </thead>\n",
       "  <tbody>\n",
       "    <tr>\n",
       "      <th>Anaheim CA</th>\n",
       "      <td>Victoria BC</td>\n",
       "      <td>Jersey City NJ</td>\n",
       "      <td>Fresno CA</td>\n",
       "    </tr>\n",
       "    <tr>\n",
       "      <th>Arlington TX</th>\n",
       "      <td>Boston MA</td>\n",
       "      <td>Windsor ON</td>\n",
       "      <td>Seattle WA</td>\n",
       "    </tr>\n",
       "    <tr>\n",
       "      <th>Austin TX</th>\n",
       "      <td>Windsor ON</td>\n",
       "      <td>Jersey City NJ</td>\n",
       "      <td>Fresno CA</td>\n",
       "    </tr>\n",
       "    <tr>\n",
       "      <th>Bakersfield CA</th>\n",
       "      <td>Windsor ON</td>\n",
       "      <td>Jersey City NJ</td>\n",
       "      <td>Fresno CA</td>\n",
       "    </tr>\n",
       "    <tr>\n",
       "      <th>Baltimore MD</th>\n",
       "      <td>Portland OR</td>\n",
       "      <td>Buffalo NY</td>\n",
       "      <td>Santa Ana CA</td>\n",
       "    </tr>\n",
       "    <tr>\n",
       "      <th>Birmingham AL</th>\n",
       "      <td>Tucson AZ</td>\n",
       "      <td>Windsor ON</td>\n",
       "      <td>Jersey City NJ</td>\n",
       "    </tr>\n",
       "  </tbody>\n",
       "</table>\n",
       "</div>"
      ],
      "text/plain": [
       "                            2                3                4\n",
       "3                                                              \n",
       " Anaheim CA       Victoria BC   Jersey City NJ        Fresno CA\n",
       " Arlington TX       Boston MA       Windsor ON       Seattle WA\n",
       " Austin TX         Windsor ON   Jersey City NJ        Fresno CA\n",
       " Bakersfield CA    Windsor ON   Jersey City NJ        Fresno CA\n",
       " Baltimore MD     Portland OR       Buffalo NY     Santa Ana CA\n",
       " Birmingham AL      Tucson AZ       Windsor ON   Jersey City NJ"
      ]
     },
     "execution_count": 53,
     "metadata": {},
     "output_type": "execute_result"
    }
   ],
   "source": [
    "filfunc(df_new,3)"
   ]
  },
  {
   "cell_type": "code",
   "execution_count": 54,
   "metadata": {},
   "outputs": [
    {
     "name": "stderr",
     "output_type": "stream",
     "text": [
      "C:\\Users\\Pranay\\Anaconda3\\lib\\site-packages\\ipykernel_launcher.py:8: DeprecationWarning: \n",
      ".ix is deprecated. Please use\n",
      ".loc for label based indexing or\n",
      ".iloc for positional indexing\n",
      "\n",
      "See the documentation here:\n",
      "http://pandas.pydata.org/pandas-docs/stable/indexing.html#ix-indexer-is-deprecated\n",
      "  \n",
      "C:\\Users\\Pranay\\Anaconda3\\lib\\site-packages\\ipykernel_launcher.py:12: DeprecationWarning: \n",
      ".ix is deprecated. Please use\n",
      ".loc for label based indexing or\n",
      ".iloc for positional indexing\n",
      "\n",
      "See the documentation here:\n",
      "http://pandas.pydata.org/pandas-docs/stable/indexing.html#ix-indexer-is-deprecated\n",
      "  if sys.path[0] == '':\n",
      "C:\\Users\\Pranay\\Anaconda3\\lib\\site-packages\\ipykernel_launcher.py:13: DeprecationWarning: \n",
      ".ix is deprecated. Please use\n",
      ".loc for label based indexing or\n",
      ".iloc for positional indexing\n",
      "\n",
      "See the documentation here:\n",
      "http://pandas.pydata.org/pandas-docs/stable/indexing.html#ix-indexer-is-deprecated\n",
      "  del sys.path[0]\n"
     ]
    },
    {
     "data": {
      "text/html": [
       "<div>\n",
       "<style scoped>\n",
       "    .dataframe tbody tr th:only-of-type {\n",
       "        vertical-align: middle;\n",
       "    }\n",
       "\n",
       "    .dataframe tbody tr th {\n",
       "        vertical-align: top;\n",
       "    }\n",
       "\n",
       "    .dataframe thead th {\n",
       "        text-align: right;\n",
       "    }\n",
       "</style>\n",
       "<table border=\"1\" class=\"dataframe\">\n",
       "  <thead>\n",
       "    <tr style=\"text-align: right;\">\n",
       "      <th></th>\n",
       "      <th>2</th>\n",
       "      <th>3</th>\n",
       "      <th>4</th>\n",
       "    </tr>\n",
       "    <tr>\n",
       "      <th>4</th>\n",
       "      <th></th>\n",
       "      <th></th>\n",
       "      <th></th>\n",
       "    </tr>\n",
       "  </thead>\n",
       "  <tbody>\n",
       "    <tr>\n",
       "      <th>Anaheim CA</th>\n",
       "      <td>Cleveland OH</td>\n",
       "      <td>Fort Worth TX</td>\n",
       "      <td>Louisville KY</td>\n",
       "    </tr>\n",
       "    <tr>\n",
       "      <th>Arlington TX</th>\n",
       "      <td>Windsor ON</td>\n",
       "      <td>Fort Worth TX</td>\n",
       "      <td>Louisville KY</td>\n",
       "    </tr>\n",
       "    <tr>\n",
       "      <th>Atlanta GA</th>\n",
       "      <td>Newark NJ</td>\n",
       "      <td>Windsor ON</td>\n",
       "      <td>Glendale AZ</td>\n",
       "    </tr>\n",
       "    <tr>\n",
       "      <th>Austin TX</th>\n",
       "      <td>Newark NJ</td>\n",
       "      <td>Windsor ON</td>\n",
       "      <td>Glendale AZ</td>\n",
       "    </tr>\n",
       "    <tr>\n",
       "      <th>Baltimore MD</th>\n",
       "      <td>Oklahoma City OK</td>\n",
       "      <td>Windsor ON</td>\n",
       "      <td>Glendale AZ</td>\n",
       "    </tr>\n",
       "    <tr>\n",
       "      <th>Boston MA</th>\n",
       "      <td>Windsor ON</td>\n",
       "      <td>Fort Worth TX</td>\n",
       "      <td>Louisville KY</td>\n",
       "    </tr>\n",
       "  </tbody>\n",
       "</table>\n",
       "</div>"
      ],
      "text/plain": [
       "                               2               3               4\n",
       "4                                                               \n",
       " Anaheim CA         Cleveland OH   Fort Worth TX   Louisville KY\n",
       " Arlington TX         Windsor ON   Fort Worth TX   Louisville KY\n",
       " Atlanta GA            Newark NJ      Windsor ON     Glendale AZ\n",
       " Austin TX             Newark NJ      Windsor ON     Glendale AZ\n",
       " Baltimore MD   Oklahoma City OK      Windsor ON     Glendale AZ\n",
       " Boston MA            Windsor ON   Fort Worth TX   Louisville KY"
      ]
     },
     "execution_count": 54,
     "metadata": {},
     "output_type": "execute_result"
    }
   ],
   "source": [
    "filfunc(df_new,4)"
   ]
  },
  {
   "cell_type": "code",
   "execution_count": 55,
   "metadata": {},
   "outputs": [
    {
     "name": "stderr",
     "output_type": "stream",
     "text": [
      "C:\\Users\\Pranay\\Anaconda3\\lib\\site-packages\\ipykernel_launcher.py:8: DeprecationWarning: \n",
      ".ix is deprecated. Please use\n",
      ".loc for label based indexing or\n",
      ".iloc for positional indexing\n",
      "\n",
      "See the documentation here:\n",
      "http://pandas.pydata.org/pandas-docs/stable/indexing.html#ix-indexer-is-deprecated\n",
      "  \n",
      "C:\\Users\\Pranay\\Anaconda3\\lib\\site-packages\\ipykernel_launcher.py:12: DeprecationWarning: \n",
      ".ix is deprecated. Please use\n",
      ".loc for label based indexing or\n",
      ".iloc for positional indexing\n",
      "\n",
      "See the documentation here:\n",
      "http://pandas.pydata.org/pandas-docs/stable/indexing.html#ix-indexer-is-deprecated\n",
      "  if sys.path[0] == '':\n",
      "C:\\Users\\Pranay\\Anaconda3\\lib\\site-packages\\ipykernel_launcher.py:13: DeprecationWarning: \n",
      ".ix is deprecated. Please use\n",
      ".loc for label based indexing or\n",
      ".iloc for positional indexing\n",
      "\n",
      "See the documentation here:\n",
      "http://pandas.pydata.org/pandas-docs/stable/indexing.html#ix-indexer-is-deprecated\n",
      "  del sys.path[0]\n"
     ]
    },
    {
     "data": {
      "text/html": [
       "<div>\n",
       "<style scoped>\n",
       "    .dataframe tbody tr th:only-of-type {\n",
       "        vertical-align: middle;\n",
       "    }\n",
       "\n",
       "    .dataframe tbody tr th {\n",
       "        vertical-align: top;\n",
       "    }\n",
       "\n",
       "    .dataframe thead th {\n",
       "        text-align: right;\n",
       "    }\n",
       "</style>\n",
       "<table border=\"1\" class=\"dataframe\">\n",
       "  <thead>\n",
       "    <tr style=\"text-align: right;\">\n",
       "      <th></th>\n",
       "      <th>2</th>\n",
       "      <th>3</th>\n",
       "      <th>4</th>\n",
       "    </tr>\n",
       "    <tr>\n",
       "      <th>5</th>\n",
       "      <th></th>\n",
       "      <th></th>\n",
       "      <th></th>\n",
       "    </tr>\n",
       "  </thead>\n",
       "  <tbody>\n",
       "    <tr>\n",
       "      <th>Baltimore MD</th>\n",
       "      <td>San Antonio TX</td>\n",
       "      <td>Hamilton ON</td>\n",
       "      <td>Louisville KY</td>\n",
       "    </tr>\n",
       "    <tr>\n",
       "      <th>Buffalo NY</th>\n",
       "      <td>Windsor ON</td>\n",
       "      <td>Hamilton ON</td>\n",
       "      <td>Louisville KY</td>\n",
       "    </tr>\n",
       "    <tr>\n",
       "      <th>Chesapeake VA</th>\n",
       "      <td>Windsor ON</td>\n",
       "      <td>Hamilton ON</td>\n",
       "      <td>Louisville KY</td>\n",
       "    </tr>\n",
       "    <tr>\n",
       "      <th>Cincinnati OH</th>\n",
       "      <td>Windsor ON</td>\n",
       "      <td>Hamilton ON</td>\n",
       "      <td>Louisville KY</td>\n",
       "    </tr>\n",
       "    <tr>\n",
       "      <th>Cleveland OH</th>\n",
       "      <td>Windsor ON</td>\n",
       "      <td>Hamilton ON</td>\n",
       "      <td>Louisville KY</td>\n",
       "    </tr>\n",
       "    <tr>\n",
       "      <th>Dallas TX</th>\n",
       "      <td>Windsor ON</td>\n",
       "      <td>Hamilton ON</td>\n",
       "      <td>Louisville KY</td>\n",
       "    </tr>\n",
       "  </tbody>\n",
       "</table>\n",
       "</div>"
      ],
      "text/plain": [
       "                              2             3               4\n",
       "5                                                            \n",
       " Baltimore MD    San Antonio TX   Hamilton ON   Louisville KY\n",
       " Buffalo NY          Windsor ON   Hamilton ON   Louisville KY\n",
       " Chesapeake VA       Windsor ON   Hamilton ON   Louisville KY\n",
       " Cincinnati OH       Windsor ON   Hamilton ON   Louisville KY\n",
       " Cleveland OH        Windsor ON   Hamilton ON   Louisville KY\n",
       " Dallas TX           Windsor ON   Hamilton ON   Louisville KY"
      ]
     },
     "execution_count": 55,
     "metadata": {},
     "output_type": "execute_result"
    }
   ],
   "source": [
    "filfunc(df_new,5)"
   ]
  },
  {
   "cell_type": "code",
   "execution_count": 33,
   "metadata": {},
   "outputs": [
    {
     "name": "stderr",
     "output_type": "stream",
     "text": [
      "C:\\Users\\Pranay\\Anaconda3\\lib\\site-packages\\ipykernel_launcher.py:8: DeprecationWarning: \n",
      ".ix is deprecated. Please use\n",
      ".loc for label based indexing or\n",
      ".iloc for positional indexing\n",
      "\n",
      "See the documentation here:\n",
      "http://pandas.pydata.org/pandas-docs/stable/indexing.html#ix-indexer-is-deprecated\n",
      "  \n",
      "C:\\Users\\Pranay\\Anaconda3\\lib\\site-packages\\ipykernel_launcher.py:12: DeprecationWarning: \n",
      ".ix is deprecated. Please use\n",
      ".loc for label based indexing or\n",
      ".iloc for positional indexing\n",
      "\n",
      "See the documentation here:\n",
      "http://pandas.pydata.org/pandas-docs/stable/indexing.html#ix-indexer-is-deprecated\n",
      "  if sys.path[0] == '':\n",
      "C:\\Users\\Pranay\\Anaconda3\\lib\\site-packages\\ipykernel_launcher.py:13: DeprecationWarning: \n",
      ".ix is deprecated. Please use\n",
      ".loc for label based indexing or\n",
      ".iloc for positional indexing\n",
      "\n",
      "See the documentation here:\n",
      "http://pandas.pydata.org/pandas-docs/stable/indexing.html#ix-indexer-is-deprecated\n",
      "  del sys.path[0]\n"
     ]
    },
    {
     "data": {
      "text/html": [
       "<div>\n",
       "<style scoped>\n",
       "    .dataframe tbody tr th:only-of-type {\n",
       "        vertical-align: middle;\n",
       "    }\n",
       "\n",
       "    .dataframe tbody tr th {\n",
       "        vertical-align: top;\n",
       "    }\n",
       "\n",
       "    .dataframe thead th {\n",
       "        text-align: right;\n",
       "    }\n",
       "</style>\n",
       "<table border=\"1\" class=\"dataframe\">\n",
       "  <thead>\n",
       "    <tr style=\"text-align: right;\">\n",
       "      <th></th>\n",
       "      <th>2</th>\n",
       "      <th>3</th>\n",
       "      <th>4</th>\n",
       "    </tr>\n",
       "    <tr>\n",
       "      <th>6</th>\n",
       "      <th></th>\n",
       "      <th></th>\n",
       "      <th></th>\n",
       "    </tr>\n",
       "  </thead>\n",
       "  <tbody>\n",
       "    <tr>\n",
       "      <th>Arlington TX</th>\n",
       "      <td>WASHINGTON DC</td>\n",
       "      <td>Virginia Beach VA</td>\n",
       "      <td>Tulsa OK</td>\n",
       "    </tr>\n",
       "    <tr>\n",
       "      <th>Birmingham AL</th>\n",
       "      <td>WASHINGTON DC</td>\n",
       "      <td>Virginia Beach VA</td>\n",
       "      <td>Tulsa OK</td>\n",
       "    </tr>\n",
       "    <tr>\n",
       "      <th>Chesapeake VA</th>\n",
       "      <td>WASHINGTON DC</td>\n",
       "      <td>Virginia Beach VA</td>\n",
       "      <td>Tulsa OK</td>\n",
       "    </tr>\n",
       "    <tr>\n",
       "      <th>Cleveland OH</th>\n",
       "      <td>WASHINGTON DC</td>\n",
       "      <td>Virginia Beach VA</td>\n",
       "      <td>Tulsa OK</td>\n",
       "    </tr>\n",
       "    <tr>\n",
       "      <th>Columbus OH</th>\n",
       "      <td>WASHINGTON DC</td>\n",
       "      <td>Virginia Beach VA</td>\n",
       "      <td>Tulsa OK</td>\n",
       "    </tr>\n",
       "    <tr>\n",
       "      <th>Corpus Christi TX</th>\n",
       "      <td>WASHINGTON DC</td>\n",
       "      <td>Virginia Beach VA</td>\n",
       "      <td>Tulsa OK</td>\n",
       "    </tr>\n",
       "  </tbody>\n",
       "</table>\n",
       "</div>"
      ],
      "text/plain": [
       "                                 2                   3          4\n",
       "6                                                                \n",
       " Arlington TX        WASHINGTON DC   Virginia Beach VA   Tulsa OK\n",
       " Birmingham AL       WASHINGTON DC   Virginia Beach VA   Tulsa OK\n",
       " Chesapeake VA       WASHINGTON DC   Virginia Beach VA   Tulsa OK\n",
       " Cleveland OH        WASHINGTON DC   Virginia Beach VA   Tulsa OK\n",
       " Columbus OH         WASHINGTON DC   Virginia Beach VA   Tulsa OK\n",
       " Corpus Christi TX   WASHINGTON DC   Virginia Beach VA   Tulsa OK"
      ]
     },
     "execution_count": 33,
     "metadata": {},
     "output_type": "execute_result"
    }
   ],
   "source": [
    "filfunc(df_new,6)"
   ]
  },
  {
   "cell_type": "markdown",
   "metadata": {},
   "source": [
    "# Refined solution "
   ]
  },
  {
   "cell_type": "code",
   "execution_count": 78,
   "metadata": {},
   "outputs": [],
   "source": [
    "#refined solution\n",
    "df['cities']=df.cities.str.split(',')"
   ]
  },
  {
   "cell_type": "code",
   "execution_count": 91,
   "metadata": {},
   "outputs": [],
   "source": [
    "import collections\n",
    "from collections import Counter\n",
    "def count_cities(df):\n",
    "    c = Counter(city for cities in df.cities for city in cities)\n",
    "    return pd.Series(c)\n",
    "searchcity_by_user = df.groupby(\"user_id\").apply(count_cities).unstack(fill_value=0)"
   ]
  },
  {
   "cell_type": "code",
   "execution_count": 99,
   "metadata": {},
   "outputs": [
    {
     "name": "stdout",
     "output_type": "stream",
     "text": [
      "<class 'pandas.core.frame.DataFrame'>\n",
      "Int64Index: 5777 entries, 4 to 11000\n",
      "Columns: 107 entries,  Anaheim CA to Vancouver BC\n",
      "dtypes: int64(107)\n",
      "memory usage: 4.8 MB\n"
     ]
    }
   ],
   "source": [
    "searchcity_by_user.info()"
   ]
  },
  {
   "cell_type": "code",
   "execution_count": 100,
   "metadata": {},
   "outputs": [],
   "source": [
    "data_ibs = pd.DataFrame(index=searchcity_by_user.columns,columns=searchcity_by_user.columns)"
   ]
  },
  {
   "cell_type": "code",
   "execution_count": 102,
   "metadata": {},
   "outputs": [
    {
     "name": "stderr",
     "output_type": "stream",
     "text": [
      "C:\\Users\\Pranay\\Anaconda3\\lib\\site-packages\\ipykernel_launcher.py:7: DeprecationWarning: \n",
      ".ix is deprecated. Please use\n",
      ".loc for label based indexing or\n",
      ".iloc for positional indexing\n",
      "\n",
      "See the documentation here:\n",
      "http://pandas.pydata.org/pandas-docs/stable/indexing.html#ix-indexer-is-deprecated\n",
      "  import sys\n"
     ]
    }
   ],
   "source": [
    "# Lets fill in those empty spaces with cosine similarities\n",
    "# Loop through the columns\n",
    "for i in range(0,len(data_ibs.columns)) :\n",
    "    # Loop through the columns for each column\n",
    "    for j in range(0,len(data_ibs.columns)) :\n",
    "      # Fill in placeholder with cosine similarities\n",
    "      data_ibs.ix[i,j] = 1-cosine(searchcity_by_user.ix[:,i],searchcity_by_user.ix[:,j])"
   ]
  },
  {
   "cell_type": "code",
   "execution_count": 103,
   "metadata": {},
   "outputs": [
    {
     "name": "stderr",
     "output_type": "stream",
     "text": [
      "C:\\Users\\Pranay\\Anaconda3\\lib\\site-packages\\ipykernel_launcher.py:6: DeprecationWarning: \n",
      ".ix is deprecated. Please use\n",
      ".loc for label based indexing or\n",
      ".iloc for positional indexing\n",
      "\n",
      "See the documentation here:\n",
      "http://pandas.pydata.org/pandas-docs/stable/indexing.html#ix-indexer-is-deprecated\n",
      "  \n"
     ]
    }
   ],
   "source": [
    "# Create a placeholder items for closes neighbours to an item\n",
    "data_neighbours = pd.DataFrame(index=data_ibs.columns,columns=range(1,11))\n",
    " \n",
    "# Loop through our similarity dataframe and fill in neighbouring item names\n",
    "for i in range(0,len(data_ibs.columns)):\n",
    "    data_neighbours.ix[i,:10] = data_ibs.ix[0:,i].sort_values(ascending=False)[:10].index"
   ]
  },
  {
   "cell_type": "code",
   "execution_count": 106,
   "metadata": {},
   "outputs": [
    {
     "name": "stderr",
     "output_type": "stream",
     "text": [
      "C:\\Users\\Pranay\\Anaconda3\\lib\\site-packages\\ipykernel_launcher.py:1: DeprecationWarning: \n",
      ".ix is deprecated. Please use\n",
      ".loc for label based indexing or\n",
      ".iloc for positional indexing\n",
      "\n",
      "See the documentation here:\n",
      "http://pandas.pydata.org/pandas-docs/stable/indexing.html#ix-indexer-is-deprecated\n",
      "  \"\"\"Entry point for launching an IPython kernel.\n"
     ]
    },
    {
     "data": {
      "text/html": [
       "<div>\n",
       "<style scoped>\n",
       "    .dataframe tbody tr th:only-of-type {\n",
       "        vertical-align: middle;\n",
       "    }\n",
       "\n",
       "    .dataframe tbody tr th {\n",
       "        vertical-align: top;\n",
       "    }\n",
       "\n",
       "    .dataframe thead th {\n",
       "        text-align: right;\n",
       "    }\n",
       "</style>\n",
       "<table border=\"1\" class=\"dataframe\">\n",
       "  <thead>\n",
       "    <tr style=\"text-align: right;\">\n",
       "      <th></th>\n",
       "      <th>2</th>\n",
       "      <th>3</th>\n",
       "      <th>4</th>\n",
       "    </tr>\n",
       "  </thead>\n",
       "  <tbody>\n",
       "    <tr>\n",
       "      <th>Anaheim CA</th>\n",
       "      <td>Santa Ana CA</td>\n",
       "      <td>Riverside CA</td>\n",
       "      <td>Long Beach CA</td>\n",
       "    </tr>\n",
       "    <tr>\n",
       "      <th>Arlington TX</th>\n",
       "      <td>Fort Worth TX</td>\n",
       "      <td>Plano TX</td>\n",
       "      <td>Austin TX</td>\n",
       "    </tr>\n",
       "    <tr>\n",
       "      <th>Atlanta GA</th>\n",
       "      <td>Birmingham AL</td>\n",
       "      <td>Memphis TN</td>\n",
       "      <td>Greensboro NC</td>\n",
       "    </tr>\n",
       "    <tr>\n",
       "      <th>Austin TX</th>\n",
       "      <td>San Antonio TX</td>\n",
       "      <td>Houston TX</td>\n",
       "      <td>San Antonio TX</td>\n",
       "    </tr>\n",
       "    <tr>\n",
       "      <th>Bakersfield CA</th>\n",
       "      <td>Fresno CA</td>\n",
       "      <td>San Jose CA</td>\n",
       "      <td>Los Angeles CA</td>\n",
       "    </tr>\n",
       "    <tr>\n",
       "      <th>Baltimore MD</th>\n",
       "      <td>WASHINGTON DC</td>\n",
       "      <td>Norfolk VA</td>\n",
       "      <td>New York NY</td>\n",
       "    </tr>\n",
       "  </tbody>\n",
       "</table>\n",
       "</div>"
      ],
      "text/plain": [
       "                               2              3               4\n",
       " Anaheim CA         Santa Ana CA   Riverside CA   Long Beach CA\n",
       " Arlington TX      Fort Worth TX       Plano TX       Austin TX\n",
       " Atlanta GA        Birmingham AL     Memphis TN   Greensboro NC\n",
       " Austin TX        San Antonio TX     Houston TX  San Antonio TX\n",
       " Bakersfield CA        Fresno CA    San Jose CA  Los Angeles CA\n",
       " Baltimore MD      WASHINGTON DC     Norfolk VA     New York NY"
      ]
     },
     "execution_count": 106,
     "metadata": {},
     "output_type": "execute_result"
    }
   ],
   "source": [
    "data_neighbours.head(6).ix[:6,2:4]"
   ]
  }
 ],
 "metadata": {
  "kernelspec": {
   "display_name": "Python 3",
   "language": "python",
   "name": "python3"
  },
  "language_info": {
   "codemirror_mode": {
    "name": "ipython",
    "version": 3
   },
   "file_extension": ".py",
   "mimetype": "text/x-python",
   "name": "python",
   "nbconvert_exporter": "python",
   "pygments_lexer": "ipython3",
   "version": "3.6.4"
  }
 },
 "nbformat": 4,
 "nbformat_minor": 2
}
